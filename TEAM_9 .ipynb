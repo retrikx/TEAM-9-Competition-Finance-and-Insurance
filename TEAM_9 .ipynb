{
 "cells": [
  {
   "cell_type": "markdown",
   "id": "8ec50c4c",
   "metadata": {},
   "source": [
    "# Vehicle Insurance Claim Fraud Detection"
   ]
  },
  {
   "cell_type": "markdown",
   "id": "198ad359",
   "metadata": {},
   "source": [
    "Motor insurance is  more susceptible to insurance frauds. We have a dataset containing information about vehicle insurance claimed in certain months . We are using it to detect the fraud Vehicle Insurance Claim. "
   ]
  },
  {
   "cell_type": "code",
   "execution_count": 1,
   "id": "f98307a5",
   "metadata": {},
   "outputs": [],
   "source": [
    "import warnings\n",
    "warnings.filterwarnings('ignore')"
   ]
  },
  {
   "cell_type": "code",
   "execution_count": 2,
   "id": "88e49605",
   "metadata": {},
   "outputs": [],
   "source": [
    "import numpy as np\n",
    "import pandas as pd\n",
    "import matplotlib.pyplot as plt\n",
    "import seaborn as sns"
   ]
  },
  {
   "cell_type": "markdown",
   "id": "af48288b",
   "metadata": {},
   "source": [
    "# Step 1: Load Dataset"
   ]
  },
  {
   "cell_type": "code",
   "execution_count": 3,
   "id": "7de2497f",
   "metadata": {},
   "outputs": [
    {
     "data": {
      "text/html": [
       "<div>\n",
       "<style scoped>\n",
       "    .dataframe tbody tr th:only-of-type {\n",
       "        vertical-align: middle;\n",
       "    }\n",
       "\n",
       "    .dataframe tbody tr th {\n",
       "        vertical-align: top;\n",
       "    }\n",
       "\n",
       "    .dataframe thead th {\n",
       "        text-align: right;\n",
       "    }\n",
       "</style>\n",
       "<table border=\"1\" class=\"dataframe\">\n",
       "  <thead>\n",
       "    <tr style=\"text-align: right;\">\n",
       "      <th></th>\n",
       "      <th>Month</th>\n",
       "      <th>WeekOfMonth</th>\n",
       "      <th>DayOfWeek</th>\n",
       "      <th>Make</th>\n",
       "      <th>AccidentArea</th>\n",
       "      <th>DayOfWeekClaimed</th>\n",
       "      <th>MonthClaimed</th>\n",
       "      <th>WeekOfMonthClaimed</th>\n",
       "      <th>Sex</th>\n",
       "      <th>MaritalStatus</th>\n",
       "      <th>...</th>\n",
       "      <th>AgeOfVehicle</th>\n",
       "      <th>AgeOfPolicyHolder</th>\n",
       "      <th>PoliceReportFiled</th>\n",
       "      <th>WitnessPresent</th>\n",
       "      <th>AgentType</th>\n",
       "      <th>NumberOfSuppliments</th>\n",
       "      <th>AddressChange_Claim</th>\n",
       "      <th>NumberOfCars</th>\n",
       "      <th>Year</th>\n",
       "      <th>BasePolicy</th>\n",
       "    </tr>\n",
       "  </thead>\n",
       "  <tbody>\n",
       "    <tr>\n",
       "      <th>0</th>\n",
       "      <td>Dec</td>\n",
       "      <td>5</td>\n",
       "      <td>Wednesday</td>\n",
       "      <td>Honda</td>\n",
       "      <td>Urban</td>\n",
       "      <td>Tuesday</td>\n",
       "      <td>Jan</td>\n",
       "      <td>1</td>\n",
       "      <td>Female</td>\n",
       "      <td>Single</td>\n",
       "      <td>...</td>\n",
       "      <td>3 years</td>\n",
       "      <td>26 to 30</td>\n",
       "      <td>No</td>\n",
       "      <td>No</td>\n",
       "      <td>External</td>\n",
       "      <td>none</td>\n",
       "      <td>1 year</td>\n",
       "      <td>3 to 4</td>\n",
       "      <td>1994</td>\n",
       "      <td>Liability</td>\n",
       "    </tr>\n",
       "    <tr>\n",
       "      <th>1</th>\n",
       "      <td>Jan</td>\n",
       "      <td>3</td>\n",
       "      <td>Wednesday</td>\n",
       "      <td>Honda</td>\n",
       "      <td>Urban</td>\n",
       "      <td>Monday</td>\n",
       "      <td>Jan</td>\n",
       "      <td>4</td>\n",
       "      <td>Male</td>\n",
       "      <td>Single</td>\n",
       "      <td>...</td>\n",
       "      <td>6 years</td>\n",
       "      <td>31 to 35</td>\n",
       "      <td>Yes</td>\n",
       "      <td>No</td>\n",
       "      <td>External</td>\n",
       "      <td>none</td>\n",
       "      <td>no change</td>\n",
       "      <td>1 vehicle</td>\n",
       "      <td>1994</td>\n",
       "      <td>Collision</td>\n",
       "    </tr>\n",
       "    <tr>\n",
       "      <th>2</th>\n",
       "      <td>Oct</td>\n",
       "      <td>5</td>\n",
       "      <td>Friday</td>\n",
       "      <td>Honda</td>\n",
       "      <td>Urban</td>\n",
       "      <td>Thursday</td>\n",
       "      <td>Nov</td>\n",
       "      <td>2</td>\n",
       "      <td>Male</td>\n",
       "      <td>Married</td>\n",
       "      <td>...</td>\n",
       "      <td>7 years</td>\n",
       "      <td>41 to 50</td>\n",
       "      <td>No</td>\n",
       "      <td>No</td>\n",
       "      <td>External</td>\n",
       "      <td>none</td>\n",
       "      <td>no change</td>\n",
       "      <td>1 vehicle</td>\n",
       "      <td>1994</td>\n",
       "      <td>Collision</td>\n",
       "    </tr>\n",
       "    <tr>\n",
       "      <th>3</th>\n",
       "      <td>Jun</td>\n",
       "      <td>2</td>\n",
       "      <td>Saturday</td>\n",
       "      <td>Toyota</td>\n",
       "      <td>Rural</td>\n",
       "      <td>Friday</td>\n",
       "      <td>Jul</td>\n",
       "      <td>1</td>\n",
       "      <td>Male</td>\n",
       "      <td>Married</td>\n",
       "      <td>...</td>\n",
       "      <td>more than 7</td>\n",
       "      <td>51 to 65</td>\n",
       "      <td>Yes</td>\n",
       "      <td>No</td>\n",
       "      <td>External</td>\n",
       "      <td>more than 5</td>\n",
       "      <td>no change</td>\n",
       "      <td>1 vehicle</td>\n",
       "      <td>1994</td>\n",
       "      <td>Liability</td>\n",
       "    </tr>\n",
       "    <tr>\n",
       "      <th>4</th>\n",
       "      <td>Jan</td>\n",
       "      <td>5</td>\n",
       "      <td>Monday</td>\n",
       "      <td>Honda</td>\n",
       "      <td>Urban</td>\n",
       "      <td>Tuesday</td>\n",
       "      <td>Feb</td>\n",
       "      <td>2</td>\n",
       "      <td>Female</td>\n",
       "      <td>Single</td>\n",
       "      <td>...</td>\n",
       "      <td>5 years</td>\n",
       "      <td>31 to 35</td>\n",
       "      <td>No</td>\n",
       "      <td>No</td>\n",
       "      <td>External</td>\n",
       "      <td>none</td>\n",
       "      <td>no change</td>\n",
       "      <td>1 vehicle</td>\n",
       "      <td>1994</td>\n",
       "      <td>Collision</td>\n",
       "    </tr>\n",
       "  </tbody>\n",
       "</table>\n",
       "<p>5 rows × 33 columns</p>\n",
       "</div>"
      ],
      "text/plain": [
       "  Month  WeekOfMonth  DayOfWeek    Make AccidentArea DayOfWeekClaimed  \\\n",
       "0   Dec            5  Wednesday   Honda        Urban          Tuesday   \n",
       "1   Jan            3  Wednesday   Honda        Urban           Monday   \n",
       "2   Oct            5     Friday   Honda        Urban         Thursday   \n",
       "3   Jun            2   Saturday  Toyota        Rural           Friday   \n",
       "4   Jan            5     Monday   Honda        Urban          Tuesday   \n",
       "\n",
       "  MonthClaimed  WeekOfMonthClaimed     Sex MaritalStatus  ...  AgeOfVehicle  \\\n",
       "0          Jan                   1  Female        Single  ...       3 years   \n",
       "1          Jan                   4    Male        Single  ...       6 years   \n",
       "2          Nov                   2    Male       Married  ...       7 years   \n",
       "3          Jul                   1    Male       Married  ...   more than 7   \n",
       "4          Feb                   2  Female        Single  ...       5 years   \n",
       "\n",
       "  AgeOfPolicyHolder PoliceReportFiled WitnessPresent AgentType  \\\n",
       "0          26 to 30                No             No  External   \n",
       "1          31 to 35               Yes             No  External   \n",
       "2          41 to 50                No             No  External   \n",
       "3          51 to 65               Yes             No  External   \n",
       "4          31 to 35                No             No  External   \n",
       "\n",
       "   NumberOfSuppliments  AddressChange_Claim  NumberOfCars  Year  BasePolicy  \n",
       "0                 none               1 year        3 to 4  1994   Liability  \n",
       "1                 none            no change     1 vehicle  1994   Collision  \n",
       "2                 none            no change     1 vehicle  1994   Collision  \n",
       "3          more than 5            no change     1 vehicle  1994   Liability  \n",
       "4                 none            no change     1 vehicle  1994   Collision  \n",
       "\n",
       "[5 rows x 33 columns]"
      ]
     },
     "execution_count": 3,
     "metadata": {},
     "output_type": "execute_result"
    }
   ],
   "source": [
    "data=pd.read_csv('Downloads/Data science/fraud_oracle.csv')\n",
    "data.head()"
   ]
  },
  {
   "cell_type": "markdown",
   "id": "26bce67e",
   "metadata": {},
   "source": [
    "# Step 2: Feature Description"
   ]
  },
  {
   "cell_type": "code",
   "execution_count": 4,
   "id": "fe9ca546",
   "metadata": {},
   "outputs": [
    {
     "data": {
      "text/plain": [
       "(15420, 33)"
      ]
     },
     "execution_count": 4,
     "metadata": {},
     "output_type": "execute_result"
    }
   ],
   "source": [
    "data.shape"
   ]
  },
  {
   "cell_type": "markdown",
   "id": "cc8d315c",
   "metadata": {},
   "source": [
    "Data contains 15420 rows and 33 columns."
   ]
  },
  {
   "cell_type": "code",
   "execution_count": 5,
   "id": "a7d34a59",
   "metadata": {},
   "outputs": [
    {
     "data": {
      "text/plain": [
       "Index(['Month', 'WeekOfMonth', 'DayOfWeek', 'Make', 'AccidentArea',\n",
       "       'DayOfWeekClaimed', 'MonthClaimed', 'WeekOfMonthClaimed', 'Sex',\n",
       "       'MaritalStatus', 'Age', 'Fault', 'PolicyType', 'VehicleCategory',\n",
       "       'VehiclePrice', 'FraudFound_P', 'PolicyNumber', 'RepNumber',\n",
       "       'Deductible', 'DriverRating', 'Days_Policy_Accident',\n",
       "       'Days_Policy_Claim', 'PastNumberOfClaims', 'AgeOfVehicle',\n",
       "       'AgeOfPolicyHolder', 'PoliceReportFiled', 'WitnessPresent', 'AgentType',\n",
       "       'NumberOfSuppliments', 'AddressChange_Claim', 'NumberOfCars', 'Year',\n",
       "       'BasePolicy'],\n",
       "      dtype='object')"
      ]
     },
     "execution_count": 5,
     "metadata": {},
     "output_type": "execute_result"
    }
   ],
   "source": [
    "data.columns"
   ]
  },
  {
   "cell_type": "markdown",
   "id": "e7e25e08",
   "metadata": {},
   "source": [
    "Feature description\n",
    "\n",
    "1. Month - months in which the accident occured\n",
    "\n",
    "2. WeekOfMonth - provides the week in the month the accident occured\n",
    "\n",
    "3. DayOfWeek - contains days of the week on which accident occured \n",
    "\n",
    "4. Make - contains a list of 19 car manufacturers\n",
    "\n",
    "5. AccidentArea - classifies area for accident as \"Urban\" or \"Rural\"\n",
    "\n",
    "6. DayOfWeekClaimed - contains the day of the week the claim was filed\n",
    "\n",
    "7. MonthClaimed - contains month of the year the claim was filed\n",
    "\n",
    "8. WeekOfMonthClaimed - contains weeks in the month that the claimed in filed\n",
    "\n",
    "9. Sex - gender of individual making claim\n",
    "\n",
    "10. MaritalStatus - marital status of individual making claim\n",
    "\n",
    "11. Age - ages of individual making claim\n",
    "\n",
    "12. Fault - categorization of who was deemed at fault\n",
    "\n",
    "13. PolicyType - contains two pieces of info,the type of insurance on the car(liability,all perils,collision) and category   of the vehicle - sport, sedan, utility \n",
    "\n",
    "14. VehicleCategory - contains the categorization of the vehicle (sport, sedan, utility)\n",
    "\n",
    "15. VehiclePrice - contains ranges for the value of the vehicle\n",
    "\n",
    "16. FraudFound_P - indicats whether the claim was fraudulant (1) or not (0),(this is what we want to predict)\n",
    "                 \n",
    "17. PolicyNumber - the masked policy number\n",
    "\n",
    "18. RepNumber - rep number is integer from 1 - 16\n",
    "\n",
    "19. Deductible - the deductible amount\n",
    "\n",
    "20. DriverRating - Rating of the driver. The scale is 1, 2, 3, 4\n",
    "\n",
    "21. Days_Policy_Accident - This is the number of days between when the policy was purchased and the accident occured\n",
    "\n",
    "22. Days_Policy_Claim - This is the number of days that pass between the policy was purchased and the claim was filed\n",
    "\n",
    "23. PastNumberOfClaims - previous number of claims filed by policy holder \n",
    "\n",
    "24. AgeOfVehicle - represents age of vehicle at time of the accident\n",
    "\n",
    "25. AgeOfPolicyHolder - each value is a range of ages\n",
    "\n",
    "26. PoliceReportFiled - indicates whether a police report was filed for the accident\n",
    "\n",
    "27. WitnessPresent - indicted whether a witness was present\n",
    "\n",
    "28. AgentType - this classifies an agent who is handling the claim as internal vs external\n",
    "\n",
    "39. NumberOfSuppliments - number of suppliment claim for additional repair or replacement costs.\n",
    "\n",
    "30. AddressChange_Claim - time from claim was filled to when person moved (i.e. filed an address change)\n",
    "\n",
    "31. NumberOfCars - number of cars covered under policy\n",
    "\n",
    "32. Year - year in which accident occured\n",
    "\n",
    "33. BasePolicy - type of insurance coverage(liability, all perils, collision)\n",
    "\n"
   ]
  },
  {
   "cell_type": "markdown",
   "id": "3e86a0e3",
   "metadata": {},
   "source": [
    "# Step 3: Preprocessing"
   ]
  },
  {
   "cell_type": "markdown",
   "id": "989f0461",
   "metadata": {},
   "source": [
    "#  Verify missing values"
   ]
  },
  {
   "cell_type": "code",
   "execution_count": 6,
   "id": "7dc49031",
   "metadata": {},
   "outputs": [
    {
     "data": {
      "text/plain": [
       "Month                   0\n",
       "WeekOfMonth             0\n",
       "DayOfWeek               0\n",
       "Make                    0\n",
       "AccidentArea            0\n",
       "DayOfWeekClaimed        0\n",
       "MonthClaimed            0\n",
       "WeekOfMonthClaimed      0\n",
       "Sex                     0\n",
       "MaritalStatus           0\n",
       "Age                     0\n",
       "Fault                   0\n",
       "PolicyType              0\n",
       "VehicleCategory         0\n",
       "VehiclePrice            0\n",
       "FraudFound_P            0\n",
       "PolicyNumber            0\n",
       "RepNumber               0\n",
       "Deductible              0\n",
       "DriverRating            0\n",
       "Days_Policy_Accident    0\n",
       "Days_Policy_Claim       0\n",
       "PastNumberOfClaims      0\n",
       "AgeOfVehicle            0\n",
       "AgeOfPolicyHolder       0\n",
       "PoliceReportFiled       0\n",
       "WitnessPresent          0\n",
       "AgentType               0\n",
       "NumberOfSuppliments     0\n",
       "AddressChange_Claim     0\n",
       "NumberOfCars            0\n",
       "Year                    0\n",
       "BasePolicy              0\n",
       "dtype: int64"
      ]
     },
     "execution_count": 6,
     "metadata": {},
     "output_type": "execute_result"
    }
   ],
   "source": [
    "data.isna().sum()"
   ]
  },
  {
   "cell_type": "code",
   "execution_count": 7,
   "id": "2c23f088",
   "metadata": {},
   "outputs": [
    {
     "data": {
      "text/plain": [
       "Month                   object\n",
       "WeekOfMonth              int64\n",
       "DayOfWeek               object\n",
       "Make                    object\n",
       "AccidentArea            object\n",
       "DayOfWeekClaimed        object\n",
       "MonthClaimed            object\n",
       "WeekOfMonthClaimed       int64\n",
       "Sex                     object\n",
       "MaritalStatus           object\n",
       "Age                      int64\n",
       "Fault                   object\n",
       "PolicyType              object\n",
       "VehicleCategory         object\n",
       "VehiclePrice            object\n",
       "FraudFound_P             int64\n",
       "PolicyNumber             int64\n",
       "RepNumber                int64\n",
       "Deductible               int64\n",
       "DriverRating             int64\n",
       "Days_Policy_Accident    object\n",
       "Days_Policy_Claim       object\n",
       "PastNumberOfClaims      object\n",
       "AgeOfVehicle            object\n",
       "AgeOfPolicyHolder       object\n",
       "PoliceReportFiled       object\n",
       "WitnessPresent          object\n",
       "AgentType               object\n",
       "NumberOfSuppliments     object\n",
       "AddressChange_Claim     object\n",
       "NumberOfCars            object\n",
       "Year                     int64\n",
       "BasePolicy              object\n",
       "dtype: object"
      ]
     },
     "execution_count": 7,
     "metadata": {},
     "output_type": "execute_result"
    }
   ],
   "source": [
    "data.dtypes"
   ]
  },
  {
   "cell_type": "code",
   "execution_count": 8,
   "id": "85733c07",
   "metadata": {},
   "outputs": [
    {
     "name": "stdout",
     "output_type": "stream",
     "text": [
      "Month ['Dec' 'Jan' 'Oct' 'Jun' 'Feb' 'Nov' 'Apr' 'Mar' 'Aug' 'Jul' 'May' 'Sep']\n",
      "WeekOfMonth [5 3 2 4 1]\n",
      "DayOfWeek ['Wednesday' 'Friday' 'Saturday' 'Monday' 'Tuesday' 'Sunday' 'Thursday']\n",
      "Make ['Honda' 'Toyota' 'Ford' 'Mazda' 'Chevrolet' 'Pontiac' 'Accura' 'Dodge'\n",
      " 'Mercury' 'Jaguar' 'Nisson' 'VW' 'Saab' 'Saturn' 'Porche' 'BMW' 'Mecedes'\n",
      " 'Ferrari' 'Lexus']\n",
      "AccidentArea ['Urban' 'Rural']\n",
      "DayOfWeekClaimed ['Tuesday' 'Monday' 'Thursday' 'Friday' 'Wednesday' 'Saturday' 'Sunday'\n",
      " '0']\n",
      "MonthClaimed ['Jan' 'Nov' 'Jul' 'Feb' 'Mar' 'Dec' 'Apr' 'Aug' 'May' 'Jun' 'Sep' 'Oct'\n",
      " '0']\n",
      "WeekOfMonthClaimed [1 4 2 3 5]\n",
      "Sex ['Female' 'Male']\n",
      "MaritalStatus ['Single' 'Married' 'Widow' 'Divorced']\n",
      "Age [21 34 47 65 27 20 36  0 30 42 71 52 28 61 38 41 32 40 63 31 45 60 39 55\n",
      " 35 44 72 29 37 59 49 50 26 48 64 33 74 23 25 56 16 68 18 51 22 53 46 43\n",
      " 57 54 69 67 19 78 77 75 80 58 73 24 76 62 79 70 17 66]\n",
      "Fault ['Policy Holder' 'Third Party']\n",
      "PolicyType ['Sport - Liability' 'Sport - Collision' 'Sedan - Liability'\n",
      " 'Utility - All Perils' 'Sedan - All Perils' 'Sedan - Collision'\n",
      " 'Utility - Collision' 'Utility - Liability' 'Sport - All Perils']\n",
      "VehicleCategory ['Sport' 'Utility' 'Sedan']\n",
      "VehiclePrice ['more than 69000' '20000 to 29000' '30000 to 39000' 'less than 20000'\n",
      " '40000 to 59000' '60000 to 69000']\n",
      "FraudFound_P [0 1]\n",
      "PolicyNumber [    1     2     3 ... 15418 15419 15420]\n",
      "RepNumber [12 15  7  4  3 14  1 13 11 16  6  2  8  5  9 10]\n",
      "Deductible [300 400 500 700]\n",
      "DriverRating [1 4 3 2]\n",
      "Days_Policy_Accident ['more than 30' '15 to 30' 'none' '1 to 7' '8 to 15']\n",
      "Days_Policy_Claim ['more than 30' '15 to 30' '8 to 15' 'none']\n",
      "PastNumberOfClaims ['none' '1' '2 to 4' 'more than 4']\n",
      "AgeOfVehicle ['3 years' '6 years' '7 years' 'more than 7' '5 years' 'new' '4 years'\n",
      " '2 years']\n",
      "AgeOfPolicyHolder ['26 to 30' '31 to 35' '41 to 50' '51 to 65' '21 to 25' '36 to 40'\n",
      " '16 to 17' 'over 65' '18 to 20']\n",
      "PoliceReportFiled ['No' 'Yes']\n",
      "WitnessPresent ['No' 'Yes']\n",
      "AgentType ['External' 'Internal']\n",
      "NumberOfSuppliments ['none' 'more than 5' '3 to 5' '1 to 2']\n",
      "AddressChange_Claim ['1 year' 'no change' '4 to 8 years' '2 to 3 years' 'under 6 months']\n",
      "NumberOfCars ['3 to 4' '1 vehicle' '2 vehicles' '5 to 8' 'more than 8']\n",
      "Year [1994 1995 1996]\n",
      "BasePolicy ['Liability' 'Collision' 'All Perils']\n"
     ]
    }
   ],
   "source": [
    "print('Month',data['Month'].unique())\n",
    "print('WeekOfMonth',data['WeekOfMonth'].unique())\n",
    "print('DayOfWeek',data['DayOfWeek'].unique())\n",
    "print('Make',data['Make'].unique())\n",
    "print('AccidentArea',data['AccidentArea'].unique())\n",
    "print('DayOfWeekClaimed',data['DayOfWeekClaimed'].unique())\n",
    "print('MonthClaimed',data['MonthClaimed'].unique())\n",
    "print('WeekOfMonthClaimed',data['WeekOfMonthClaimed'].unique())\n",
    "print('Sex',data['Sex'].unique())\n",
    "print('MaritalStatus',data['MaritalStatus'].unique())\n",
    "print('Age',data['Age'].unique())\n",
    "print('Fault',data['Fault'].unique())\n",
    "print('PolicyType',data['PolicyType'].unique())\n",
    "print('VehicleCategory',data['VehicleCategory'].unique())\n",
    "print('VehiclePrice',data['VehiclePrice'].unique())\n",
    "print('FraudFound_P',data['FraudFound_P'].unique())\n",
    "print('PolicyNumber',data['PolicyNumber'].unique())\n",
    "print('RepNumber',data['RepNumber'].unique())\n",
    "print('Deductible',data['Deductible'].unique())\n",
    "print('DriverRating',data['DriverRating'].unique())\n",
    "print('Days_Policy_Accident', data['Days_Policy_Accident'].unique())\n",
    "print('Days_Policy_Claim',data['Days_Policy_Claim'].unique())\n",
    "print('PastNumberOfClaims',data['PastNumberOfClaims'].unique())\n",
    "print('AgeOfVehicle',data['AgeOfVehicle'].unique())\n",
    "print('AgeOfPolicyHolder',data['AgeOfPolicyHolder'].unique())\n",
    "print('PoliceReportFiled',data['PoliceReportFiled'].unique())\n",
    "print('WitnessPresent',data['WitnessPresent'].unique())\n",
    "print('AgentType',data['AgentType'].unique())\n",
    "print('NumberOfSuppliments',data['NumberOfSuppliments'].unique())\n",
    "print('AddressChange_Claim',data['AddressChange_Claim'].unique())\n",
    "print('NumberOfCars',data['NumberOfCars'].unique())\n",
    "print('Year',data['Year'].unique())\n",
    "print('BasePolicy',data['BasePolicy'].unique())"
   ]
  },
  {
   "cell_type": "markdown",
   "id": "c21d1ffe",
   "metadata": {},
   "source": [
    "Missing values\n",
    "\n",
    "When we calculated total number of missing values in each column the output was no missing values in any of the columns. But when we check the unique values of each column we can see that some of the columns have 0 as value. They are the missing values in that particular column. Lets us check which are columns.\n",
    "\n",
    "1. DayOfWeekClaimed - This column data type is object . But we can see 0 in it . so they are the missing values in that column.\n",
    "\n",
    "2. MonthClaimed - This column data type is object . But we can see 0 in it . so they are the missing values in that column.\n",
    "\n",
    "3. Age - Also contains 0 which are considered as the missing values"
   ]
  },
  {
   "cell_type": "code",
   "execution_count": 9,
   "id": "47761c40",
   "metadata": {},
   "outputs": [
    {
     "name": "stdout",
     "output_type": "stream",
     "text": [
      "DayOfWeekClaimed has  1  row(s) with a 0\n",
      "MonthClaimed has  1  row(s) with a 0\n"
     ]
    }
   ],
   "source": [
    "#Investigate the 0 in DayOfWeekClaimed and MonthClaimed\n",
    "\n",
    "print('DayOfWeekClaimed has ', len(data.loc[(data['DayOfWeekClaimed']=='0')]), ' row(s) with a 0')\n",
    "print('MonthClaimed has ',len(data.loc[(data['MonthClaimed']=='0')]),' row(s) with a 0') "
   ]
  },
  {
   "cell_type": "code",
   "execution_count": 10,
   "id": "7334e40e",
   "metadata": {},
   "outputs": [
    {
     "data": {
      "text/html": [
       "<div>\n",
       "<style scoped>\n",
       "    .dataframe tbody tr th:only-of-type {\n",
       "        vertical-align: middle;\n",
       "    }\n",
       "\n",
       "    .dataframe tbody tr th {\n",
       "        vertical-align: top;\n",
       "    }\n",
       "\n",
       "    .dataframe thead th {\n",
       "        text-align: right;\n",
       "    }\n",
       "</style>\n",
       "<table border=\"1\" class=\"dataframe\">\n",
       "  <thead>\n",
       "    <tr style=\"text-align: right;\">\n",
       "      <th></th>\n",
       "      <th>Month</th>\n",
       "      <th>WeekOfMonth</th>\n",
       "      <th>DayOfWeek</th>\n",
       "      <th>Make</th>\n",
       "      <th>AccidentArea</th>\n",
       "      <th>DayOfWeekClaimed</th>\n",
       "      <th>MonthClaimed</th>\n",
       "      <th>WeekOfMonthClaimed</th>\n",
       "      <th>Sex</th>\n",
       "      <th>MaritalStatus</th>\n",
       "      <th>...</th>\n",
       "      <th>AgeOfVehicle</th>\n",
       "      <th>AgeOfPolicyHolder</th>\n",
       "      <th>PoliceReportFiled</th>\n",
       "      <th>WitnessPresent</th>\n",
       "      <th>AgentType</th>\n",
       "      <th>NumberOfSuppliments</th>\n",
       "      <th>AddressChange_Claim</th>\n",
       "      <th>NumberOfCars</th>\n",
       "      <th>Year</th>\n",
       "      <th>BasePolicy</th>\n",
       "    </tr>\n",
       "  </thead>\n",
       "  <tbody>\n",
       "    <tr>\n",
       "      <th>1516</th>\n",
       "      <td>Jul</td>\n",
       "      <td>2</td>\n",
       "      <td>Monday</td>\n",
       "      <td>Honda</td>\n",
       "      <td>Rural</td>\n",
       "      <td>0</td>\n",
       "      <td>0</td>\n",
       "      <td>1</td>\n",
       "      <td>Male</td>\n",
       "      <td>Single</td>\n",
       "      <td>...</td>\n",
       "      <td>new</td>\n",
       "      <td>16 to 17</td>\n",
       "      <td>No</td>\n",
       "      <td>No</td>\n",
       "      <td>External</td>\n",
       "      <td>none</td>\n",
       "      <td>no change</td>\n",
       "      <td>1 vehicle</td>\n",
       "      <td>1994</td>\n",
       "      <td>All Perils</td>\n",
       "    </tr>\n",
       "  </tbody>\n",
       "</table>\n",
       "<p>1 rows × 33 columns</p>\n",
       "</div>"
      ],
      "text/plain": [
       "     Month  WeekOfMonth DayOfWeek   Make AccidentArea DayOfWeekClaimed  \\\n",
       "1516   Jul            2    Monday  Honda        Rural                0   \n",
       "\n",
       "     MonthClaimed  WeekOfMonthClaimed   Sex MaritalStatus  ...  AgeOfVehicle  \\\n",
       "1516            0                   1  Male        Single  ...           new   \n",
       "\n",
       "     AgeOfPolicyHolder PoliceReportFiled WitnessPresent AgentType  \\\n",
       "1516          16 to 17                No             No  External   \n",
       "\n",
       "      NumberOfSuppliments  AddressChange_Claim  NumberOfCars  Year  BasePolicy  \n",
       "1516                 none            no change     1 vehicle  1994  All Perils  \n",
       "\n",
       "[1 rows x 33 columns]"
      ]
     },
     "execution_count": 10,
     "metadata": {},
     "output_type": "execute_result"
    }
   ],
   "source": [
    "#We see there is only one row where either the DayOfWeekClaimed or MonthClaimed are 0. \n",
    "#So let us locate the row and change 0.\n",
    "\n",
    "data.loc[(data['DayOfWeekClaimed']=='0')]"
   ]
  },
  {
   "cell_type": "code",
   "execution_count": 11,
   "id": "23520b4f",
   "metadata": {},
   "outputs": [
    {
     "data": {
      "text/html": [
       "<div>\n",
       "<style scoped>\n",
       "    .dataframe tbody tr th:only-of-type {\n",
       "        vertical-align: middle;\n",
       "    }\n",
       "\n",
       "    .dataframe tbody tr th {\n",
       "        vertical-align: top;\n",
       "    }\n",
       "\n",
       "    .dataframe thead th {\n",
       "        text-align: right;\n",
       "    }\n",
       "</style>\n",
       "<table border=\"1\" class=\"dataframe\">\n",
       "  <thead>\n",
       "    <tr style=\"text-align: right;\">\n",
       "      <th></th>\n",
       "      <th>Month</th>\n",
       "      <th>WeekOfMonth</th>\n",
       "      <th>DayOfWeek</th>\n",
       "      <th>Make</th>\n",
       "      <th>AccidentArea</th>\n",
       "      <th>DayOfWeekClaimed</th>\n",
       "      <th>MonthClaimed</th>\n",
       "      <th>WeekOfMonthClaimed</th>\n",
       "      <th>Sex</th>\n",
       "      <th>MaritalStatus</th>\n",
       "      <th>...</th>\n",
       "      <th>AgeOfVehicle</th>\n",
       "      <th>AgeOfPolicyHolder</th>\n",
       "      <th>PoliceReportFiled</th>\n",
       "      <th>WitnessPresent</th>\n",
       "      <th>AgentType</th>\n",
       "      <th>NumberOfSuppliments</th>\n",
       "      <th>AddressChange_Claim</th>\n",
       "      <th>NumberOfCars</th>\n",
       "      <th>Year</th>\n",
       "      <th>BasePolicy</th>\n",
       "    </tr>\n",
       "  </thead>\n",
       "  <tbody>\n",
       "    <tr>\n",
       "      <th>1516</th>\n",
       "      <td>Jul</td>\n",
       "      <td>2</td>\n",
       "      <td>Monday</td>\n",
       "      <td>Honda</td>\n",
       "      <td>Rural</td>\n",
       "      <td>0</td>\n",
       "      <td>0</td>\n",
       "      <td>1</td>\n",
       "      <td>Male</td>\n",
       "      <td>Single</td>\n",
       "      <td>...</td>\n",
       "      <td>new</td>\n",
       "      <td>16 to 17</td>\n",
       "      <td>No</td>\n",
       "      <td>No</td>\n",
       "      <td>External</td>\n",
       "      <td>none</td>\n",
       "      <td>no change</td>\n",
       "      <td>1 vehicle</td>\n",
       "      <td>1994</td>\n",
       "      <td>All Perils</td>\n",
       "    </tr>\n",
       "  </tbody>\n",
       "</table>\n",
       "<p>1 rows × 33 columns</p>\n",
       "</div>"
      ],
      "text/plain": [
       "     Month  WeekOfMonth DayOfWeek   Make AccidentArea DayOfWeekClaimed  \\\n",
       "1516   Jul            2    Monday  Honda        Rural                0   \n",
       "\n",
       "     MonthClaimed  WeekOfMonthClaimed   Sex MaritalStatus  ...  AgeOfVehicle  \\\n",
       "1516            0                   1  Male        Single  ...           new   \n",
       "\n",
       "     AgeOfPolicyHolder PoliceReportFiled WitnessPresent AgentType  \\\n",
       "1516          16 to 17                No             No  External   \n",
       "\n",
       "      NumberOfSuppliments  AddressChange_Claim  NumberOfCars  Year  BasePolicy  \n",
       "1516                 none            no change     1 vehicle  1994  All Perils  \n",
       "\n",
       "[1 rows x 33 columns]"
      ]
     },
     "execution_count": 11,
     "metadata": {},
     "output_type": "execute_result"
    }
   ],
   "source": [
    "data.loc[(data['MonthClaimed']=='0')]"
   ]
  },
  {
   "cell_type": "markdown",
   "id": "d688cbda",
   "metadata": {},
   "source": [
    "Both are zero in the same row (row 1516). "
   ]
  },
  {
   "cell_type": "code",
   "execution_count": 12,
   "id": "21d955e8",
   "metadata": {},
   "outputs": [
    {
     "data": {
      "text/plain": [
       "0    Jan\n",
       "dtype: object"
      ]
     },
     "execution_count": 12,
     "metadata": {},
     "output_type": "execute_result"
    }
   ],
   "source": [
    "data['MonthClaimed'].mode()"
   ]
  },
  {
   "cell_type": "code",
   "execution_count": 13,
   "id": "d73a581d",
   "metadata": {},
   "outputs": [],
   "source": [
    "data['MonthClaimed'][1516]='Jan'"
   ]
  },
  {
   "cell_type": "code",
   "execution_count": 14,
   "id": "d617a9e1",
   "metadata": {},
   "outputs": [
    {
     "data": {
      "text/plain": [
       "'Jan'"
      ]
     },
     "execution_count": 14,
     "metadata": {},
     "output_type": "execute_result"
    }
   ],
   "source": [
    "data['MonthClaimed'][1516]"
   ]
  },
  {
   "cell_type": "code",
   "execution_count": 15,
   "id": "ce414893",
   "metadata": {},
   "outputs": [
    {
     "data": {
      "text/plain": [
       "array(['Jan', 'Nov', 'Jul', 'Feb', 'Mar', 'Dec', 'Apr', 'Aug', 'May',\n",
       "       'Jun', 'Sep', 'Oct'], dtype=object)"
      ]
     },
     "execution_count": 15,
     "metadata": {},
     "output_type": "execute_result"
    }
   ],
   "source": [
    "data['MonthClaimed'].unique()"
   ]
  },
  {
   "cell_type": "code",
   "execution_count": 16,
   "id": "108e7e89",
   "metadata": {},
   "outputs": [
    {
     "data": {
      "text/plain": [
       "0    Monday\n",
       "dtype: object"
      ]
     },
     "execution_count": 16,
     "metadata": {},
     "output_type": "execute_result"
    }
   ],
   "source": [
    "data['DayOfWeekClaimed'].mode()"
   ]
  },
  {
   "cell_type": "code",
   "execution_count": 17,
   "id": "554518aa",
   "metadata": {},
   "outputs": [],
   "source": [
    "data['DayOfWeekClaimed'][1516]='Monday'"
   ]
  },
  {
   "cell_type": "code",
   "execution_count": 18,
   "id": "fee5da57",
   "metadata": {},
   "outputs": [
    {
     "data": {
      "text/plain": [
       "'Monday'"
      ]
     },
     "execution_count": 18,
     "metadata": {},
     "output_type": "execute_result"
    }
   ],
   "source": [
    "data['DayOfWeekClaimed'][1516]"
   ]
  },
  {
   "cell_type": "code",
   "execution_count": 19,
   "id": "6a04c90d",
   "metadata": {},
   "outputs": [
    {
     "data": {
      "text/plain": [
       "array(['Tuesday', 'Monday', 'Thursday', 'Friday', 'Wednesday', 'Saturday',\n",
       "       'Sunday'], dtype=object)"
      ]
     },
     "execution_count": 19,
     "metadata": {},
     "output_type": "execute_result"
    }
   ],
   "source": [
    "data['DayOfWeekClaimed'].unique()"
   ]
  },
  {
   "cell_type": "markdown",
   "id": "5a741d65",
   "metadata": {},
   "source": [
    "We can see that 0 is removed. from both the columns."
   ]
  },
  {
   "cell_type": "code",
   "execution_count": 20,
   "id": "486f7f3d",
   "metadata": {},
   "outputs": [
    {
     "name": "stdout",
     "output_type": "stream",
     "text": [
      "There are 320 missing values which are shown as 0 in this column.\n"
     ]
    }
   ],
   "source": [
    "#Investigate the 0 in Age\n",
    "print(\"There are\",len(data[data['Age']==0]) ,'missing values which are shown as 0 in this column.' )"
   ]
  },
  {
   "cell_type": "code",
   "execution_count": 21,
   "id": "5527142f",
   "metadata": {},
   "outputs": [],
   "source": [
    "k=data['Age'].loc[data['Age']==0].index"
   ]
  },
  {
   "cell_type": "code",
   "execution_count": 22,
   "id": "35b44ef9",
   "metadata": {},
   "outputs": [
    {
     "data": {
      "text/plain": [
       "Int64Index([    7,    13,    28,    31,    58,    62,    84,   119,   120,\n",
       "              161,\n",
       "            ...\n",
       "            14749, 14802, 14891, 14938, 14967, 15243, 15262, 15274, 15379,\n",
       "            15392],\n",
       "           dtype='int64', length=320)"
      ]
     },
     "execution_count": 22,
     "metadata": {},
     "output_type": "execute_result"
    }
   ],
   "source": [
    "k"
   ]
  },
  {
   "cell_type": "code",
   "execution_count": 23,
   "id": "68613c09",
   "metadata": {},
   "outputs": [
    {
     "data": {
      "text/html": [
       "<div>\n",
       "<style scoped>\n",
       "    .dataframe tbody tr th:only-of-type {\n",
       "        vertical-align: middle;\n",
       "    }\n",
       "\n",
       "    .dataframe tbody tr th {\n",
       "        vertical-align: top;\n",
       "    }\n",
       "\n",
       "    .dataframe thead th {\n",
       "        text-align: right;\n",
       "    }\n",
       "</style>\n",
       "<table border=\"1\" class=\"dataframe\">\n",
       "  <thead>\n",
       "    <tr style=\"text-align: right;\">\n",
       "      <th></th>\n",
       "      <th>Age</th>\n",
       "      <th>AgeOfPolicyHolder</th>\n",
       "    </tr>\n",
       "  </thead>\n",
       "  <tbody>\n",
       "    <tr>\n",
       "      <th>7</th>\n",
       "      <td>0</td>\n",
       "      <td>16 to 17</td>\n",
       "    </tr>\n",
       "    <tr>\n",
       "      <th>13</th>\n",
       "      <td>0</td>\n",
       "      <td>16 to 17</td>\n",
       "    </tr>\n",
       "    <tr>\n",
       "      <th>28</th>\n",
       "      <td>0</td>\n",
       "      <td>16 to 17</td>\n",
       "    </tr>\n",
       "    <tr>\n",
       "      <th>31</th>\n",
       "      <td>0</td>\n",
       "      <td>16 to 17</td>\n",
       "    </tr>\n",
       "    <tr>\n",
       "      <th>58</th>\n",
       "      <td>0</td>\n",
       "      <td>16 to 17</td>\n",
       "    </tr>\n",
       "    <tr>\n",
       "      <th>...</th>\n",
       "      <td>...</td>\n",
       "      <td>...</td>\n",
       "    </tr>\n",
       "    <tr>\n",
       "      <th>15243</th>\n",
       "      <td>0</td>\n",
       "      <td>16 to 17</td>\n",
       "    </tr>\n",
       "    <tr>\n",
       "      <th>15262</th>\n",
       "      <td>0</td>\n",
       "      <td>16 to 17</td>\n",
       "    </tr>\n",
       "    <tr>\n",
       "      <th>15274</th>\n",
       "      <td>0</td>\n",
       "      <td>16 to 17</td>\n",
       "    </tr>\n",
       "    <tr>\n",
       "      <th>15379</th>\n",
       "      <td>0</td>\n",
       "      <td>16 to 17</td>\n",
       "    </tr>\n",
       "    <tr>\n",
       "      <th>15392</th>\n",
       "      <td>0</td>\n",
       "      <td>16 to 17</td>\n",
       "    </tr>\n",
       "  </tbody>\n",
       "</table>\n",
       "<p>320 rows × 2 columns</p>\n",
       "</div>"
      ],
      "text/plain": [
       "       Age AgeOfPolicyHolder\n",
       "7        0          16 to 17\n",
       "13       0          16 to 17\n",
       "28       0          16 to 17\n",
       "31       0          16 to 17\n",
       "58       0          16 to 17\n",
       "...    ...               ...\n",
       "15243    0          16 to 17\n",
       "15262    0          16 to 17\n",
       "15274    0          16 to 17\n",
       "15379    0          16 to 17\n",
       "15392    0          16 to 17\n",
       "\n",
       "[320 rows x 2 columns]"
      ]
     },
     "execution_count": 23,
     "metadata": {},
     "output_type": "execute_result"
    }
   ],
   "source": [
    "data.loc[k, ['Age', 'AgeOfPolicyHolder']]"
   ]
  },
  {
   "cell_type": "code",
   "execution_count": 24,
   "id": "4dfe2573",
   "metadata": {},
   "outputs": [
    {
     "data": {
      "text/html": [
       "<div>\n",
       "<style scoped>\n",
       "    .dataframe tbody tr th:only-of-type {\n",
       "        vertical-align: middle;\n",
       "    }\n",
       "\n",
       "    .dataframe tbody tr th {\n",
       "        vertical-align: top;\n",
       "    }\n",
       "\n",
       "    .dataframe thead th {\n",
       "        text-align: right;\n",
       "    }\n",
       "</style>\n",
       "<table border=\"1\" class=\"dataframe\">\n",
       "  <thead>\n",
       "    <tr style=\"text-align: right;\">\n",
       "      <th></th>\n",
       "      <th>Age</th>\n",
       "      <th>AgeOfPolicyHolder</th>\n",
       "    </tr>\n",
       "  </thead>\n",
       "  <tbody>\n",
       "    <tr>\n",
       "      <th>1</th>\n",
       "      <td>34</td>\n",
       "      <td>31 to 35</td>\n",
       "    </tr>\n",
       "    <tr>\n",
       "      <th>2</th>\n",
       "      <td>47</td>\n",
       "      <td>41 to 50</td>\n",
       "    </tr>\n",
       "    <tr>\n",
       "      <th>3</th>\n",
       "      <td>65</td>\n",
       "      <td>51 to 65</td>\n",
       "    </tr>\n",
       "    <tr>\n",
       "      <th>4</th>\n",
       "      <td>27</td>\n",
       "      <td>31 to 35</td>\n",
       "    </tr>\n",
       "    <tr>\n",
       "      <th>5</th>\n",
       "      <td>20</td>\n",
       "      <td>21 to 25</td>\n",
       "    </tr>\n",
       "    <tr>\n",
       "      <th>6</th>\n",
       "      <td>36</td>\n",
       "      <td>36 to 40</td>\n",
       "    </tr>\n",
       "    <tr>\n",
       "      <th>7</th>\n",
       "      <td>0</td>\n",
       "      <td>16 to 17</td>\n",
       "    </tr>\n",
       "    <tr>\n",
       "      <th>8</th>\n",
       "      <td>30</td>\n",
       "      <td>31 to 35</td>\n",
       "    </tr>\n",
       "  </tbody>\n",
       "</table>\n",
       "</div>"
      ],
      "text/plain": [
       "   Age AgeOfPolicyHolder\n",
       "1   34          31 to 35\n",
       "2   47          41 to 50\n",
       "3   65          51 to 65\n",
       "4   27          31 to 35\n",
       "5   20          21 to 25\n",
       "6   36          36 to 40\n",
       "7    0          16 to 17\n",
       "8   30          31 to 35"
      ]
     },
     "execution_count": 24,
     "metadata": {},
     "output_type": "execute_result"
    }
   ],
   "source": [
    "data.loc[1:8, ['Age', 'AgeOfPolicyHolder']]"
   ]
  },
  {
   "cell_type": "markdown",
   "id": "a9834a92",
   "metadata": {},
   "source": [
    "During our investigation of the feature 'Age' being set to 0, we have seen that there are many rows who's 'Age' does not correspond to the age range for 'AgeOfPolicyHolder'. For example see row 4 Age is given 27 but Age of policy holder is in the range 31 to 35. A somewhat reasonable assumption, is that the individual driving at the time of the accident was not the policy holder, but another individual.\n",
    "\n",
    "Therefore here we can replace the 0 with the mean value of the interval. Since the interval corresponding to all 0 is in the range between 16 and 17 we can give 16.5"
   ]
  },
  {
   "cell_type": "code",
   "execution_count": 25,
   "id": "94e0d581",
   "metadata": {},
   "outputs": [],
   "source": [
    "a=list(k)"
   ]
  },
  {
   "cell_type": "code",
   "execution_count": 26,
   "id": "d1bde43b",
   "metadata": {},
   "outputs": [],
   "source": [
    "for i in a:\n",
    "    data['Age'][a]=16.5"
   ]
  },
  {
   "cell_type": "code",
   "execution_count": 27,
   "id": "e1a0004a",
   "metadata": {},
   "outputs": [
    {
     "data": {
      "text/plain": [
       "0"
      ]
     },
     "execution_count": 27,
     "metadata": {},
     "output_type": "execute_result"
    }
   ],
   "source": [
    "len(data[data['Age']==0])"
   ]
  },
  {
   "cell_type": "markdown",
   "id": "43189dae",
   "metadata": {},
   "source": [
    "So the missing value are filled with the new values."
   ]
  },
  {
   "cell_type": "code",
   "execution_count": 28,
   "id": "c8defa5b",
   "metadata": {},
   "outputs": [
    {
     "data": {
      "text/html": [
       "<div>\n",
       "<style scoped>\n",
       "    .dataframe tbody tr th:only-of-type {\n",
       "        vertical-align: middle;\n",
       "    }\n",
       "\n",
       "    .dataframe tbody tr th {\n",
       "        vertical-align: top;\n",
       "    }\n",
       "\n",
       "    .dataframe thead th {\n",
       "        text-align: right;\n",
       "    }\n",
       "</style>\n",
       "<table border=\"1\" class=\"dataframe\">\n",
       "  <thead>\n",
       "    <tr style=\"text-align: right;\">\n",
       "      <th></th>\n",
       "      <th>Age</th>\n",
       "      <th>AgeOfPolicyHolder</th>\n",
       "    </tr>\n",
       "  </thead>\n",
       "  <tbody>\n",
       "    <tr>\n",
       "      <th>7</th>\n",
       "      <td>16.5</td>\n",
       "      <td>16 to 17</td>\n",
       "    </tr>\n",
       "    <tr>\n",
       "      <th>13</th>\n",
       "      <td>16.5</td>\n",
       "      <td>16 to 17</td>\n",
       "    </tr>\n",
       "    <tr>\n",
       "      <th>28</th>\n",
       "      <td>16.5</td>\n",
       "      <td>16 to 17</td>\n",
       "    </tr>\n",
       "    <tr>\n",
       "      <th>31</th>\n",
       "      <td>16.5</td>\n",
       "      <td>16 to 17</td>\n",
       "    </tr>\n",
       "    <tr>\n",
       "      <th>58</th>\n",
       "      <td>16.5</td>\n",
       "      <td>16 to 17</td>\n",
       "    </tr>\n",
       "  </tbody>\n",
       "</table>\n",
       "</div>"
      ],
      "text/plain": [
       "     Age AgeOfPolicyHolder\n",
       "7   16.5          16 to 17\n",
       "13  16.5          16 to 17\n",
       "28  16.5          16 to 17\n",
       "31  16.5          16 to 17\n",
       "58  16.5          16 to 17"
      ]
     },
     "execution_count": 28,
     "metadata": {},
     "output_type": "execute_result"
    }
   ],
   "source": [
    "data.loc[k, ['Age', 'AgeOfPolicyHolder']].head()"
   ]
  },
  {
   "cell_type": "code",
   "execution_count": 29,
   "id": "ab51566e",
   "metadata": {},
   "outputs": [],
   "source": [
    "#Before going on to remaining preprocessing we can go through exploratory data analysis."
   ]
  },
  {
   "cell_type": "markdown",
   "id": "26658404",
   "metadata": {},
   "source": [
    "# Step 4: Exploratory Data Analysis"
   ]
  },
  {
   "cell_type": "markdown",
   "id": "ac72708d",
   "metadata": {},
   "source": [
    "# Chi- square test"
   ]
  },
  {
   "cell_type": "markdown",
   "id": "396c975b",
   "metadata": {},
   "source": [
    "The goal here is to gather some insight into the relationship between our observations and the desired predicted feature, 'FraudFound_P'."
   ]
  },
  {
   "cell_type": "code",
   "execution_count": 30,
   "id": "1b32c149",
   "metadata": {},
   "outputs": [],
   "source": [
    "import scipy.stats as stats\n",
    "\n",
    "data_chi_result=[]\n",
    "for i in data.columns:\n",
    "    chi2_val, p_val, dof2, ex1 = stats.chi2_contingency(pd.crosstab(data[i], data['FraudFound_P']))\n",
    "    data_chi_result.append([i,chi2_val,p_val])\n",
    "    \n",
    "chi_df = pd.DataFrame(data_chi_result, columns=['Features', 'Chi2 val', 'p-val'])\n",
    "chi_df.sort_values(by='p-val',ascending=True, inplace=True)    \n",
    "\n"
   ]
  },
  {
   "cell_type": "code",
   "execution_count": 31,
   "id": "2b6959e5",
   "metadata": {},
   "outputs": [
    {
     "name": "stdout",
     "output_type": "stream",
     "text": [
      "                Features      Chi2 val         p-val\n",
      "15          FraudFound_P  15402.235059  0.000000e+00\n",
      "12            PolicyType    437.401870  1.848256e-89\n",
      "32            BasePolicy    402.851921  3.325192e-88\n",
      "13       VehicleCategory    290.942140  6.648398e-64\n",
      "11                 Fault    264.953824  1.428036e-59\n",
      "29   AddressChange_Claim    104.733773  9.652105e-22\n",
      "18            Deductible     72.415180  1.297108e-15\n",
      "14          VehiclePrice     67.768295  2.983598e-13\n",
      "22    PastNumberOfClaims     53.500831  1.433718e-11\n",
      "3                   Make     59.809999  2.195889e-06\n",
      "6           MonthClaimed     42.194866  1.498618e-05\n",
      "4           AccidentArea     16.844310  4.057480e-05\n",
      "24     AgeOfPolicyHolder     33.003254  6.150520e-05\n",
      "8                    Sex     13.489894  2.398518e-04\n",
      "28   NumberOfSuppliments     18.140572  4.114406e-04\n",
      "10                   Age    109.568010  4.569895e-04\n",
      "0                  Month     29.796429  1.705480e-03\n",
      "23          AgeOfVehicle     21.929005  2.612997e-03\n",
      "27             AgentType      7.379518  6.597083e-03\n",
      "31                  Year      9.578031  8.320645e-03\n",
      "20  Days_Policy_Accident     11.571607  2.083813e-02\n"
     ]
    }
   ],
   "source": [
    "print(chi_df[chi_df['p-val']<0.05])"
   ]
  },
  {
   "cell_type": "markdown",
   "id": "b5fd2c52",
   "metadata": {},
   "source": [
    "RESULT: These features have a strong relation with 'FraudFound_P'"
   ]
  },
  {
   "cell_type": "markdown",
   "id": "78be8c2a",
   "metadata": {},
   "source": [
    "# Visualization"
   ]
  },
  {
   "cell_type": "markdown",
   "id": "801275b3",
   "metadata": {},
   "source": [
    "Visualisation of the some of the above features vs FraudFound_p."
   ]
  },
  {
   "cell_type": "code",
   "execution_count": 32,
   "id": "7963d360",
   "metadata": {
    "scrolled": true
   },
   "outputs": [
    {
     "data": {
      "text/plain": [
       "<AxesSubplot:xlabel='PolicyType', ylabel='FraudFound_P'>"
      ]
     },
     "execution_count": 32,
     "metadata": {},
     "output_type": "execute_result"
    },
    {
     "data": {
      "image/png": "[encoded data removed]",
      "text/plain": [
       "<Figure size 1080x360 with 1 Axes>"
      ]
     },
     "metadata": {
      "needs_background": "light"
     },
     "output_type": "display_data"
    }
   ],
   "source": [
    "x=data.groupby('PolicyType').agg({'FraudFound_P':'sum'}).reset_index()\n",
    "plt.subplots(figsize=(15,5))\n",
    "sns.barplot(x='PolicyType', y='FraudFound_P', data = x)"
   ]
  },
  {
   "cell_type": "markdown",
   "id": "01cb5efa",
   "metadata": {},
   "source": [
    "RESULT: From the graph it is clear that more fraud insurance claim comes in Policy type 'Sedan-All Perils'."
   ]
  },
  {
   "cell_type": "code",
   "execution_count": 33,
   "id": "01a18036",
   "metadata": {},
   "outputs": [
    {
     "data": {
      "text/plain": [
       "<AxesSubplot:xlabel='AccidentArea', ylabel='FraudFound_P'>"
      ]
     },
     "execution_count": 33,
     "metadata": {},
     "output_type": "execute_result"
    },
    {
     "data": {
      "image/png": "[encoded data removed]",
      "text/plain": [
       "<Figure size 432x288 with 1 Axes>"
      ]
     },
     "metadata": {
      "needs_background": "light"
     },
     "output_type": "display_data"
    }
   ],
   "source": [
    "y=data.groupby('AccidentArea').agg({'FraudFound_P':'sum'}).reset_index()\n",
    "sns.barplot(x='AccidentArea', y='FraudFound_P', data = y)"
   ]
  },
  {
   "cell_type": "markdown",
   "id": "3625735a",
   "metadata": {},
   "source": [
    "RESULT: From the graph it is clear that more fraud insurance claim comes from Urban area . Also more accidents occurs there."
   ]
  },
  {
   "cell_type": "code",
   "execution_count": 34,
   "id": "9ba4f43e",
   "metadata": {},
   "outputs": [
    {
     "data": {
      "text/plain": [
       "<AxesSubplot:xlabel='VehicleCategory', ylabel='FraudFound_P'>"
      ]
     },
     "execution_count": 34,
     "metadata": {},
     "output_type": "execute_result"
    },
    {
     "data": {
      "image/png": "[encoded data removed]",
      "text/plain": [
       "<Figure size 432x288 with 1 Axes>"
      ]
     },
     "metadata": {
      "needs_background": "light"
     },
     "output_type": "display_data"
    }
   ],
   "source": [
    "z=data.groupby('VehicleCategory').agg({'FraudFound_P':'sum'}).reset_index()\n",
    "sns.barplot(x='VehicleCategory', y='FraudFound_P', data = z)"
   ]
  },
  {
   "cell_type": "markdown",
   "id": "34a583b2",
   "metadata": {},
   "source": [
    "RESULT: Majority of fraud claim come from Vehicle category-Sedan"
   ]
  },
  {
   "cell_type": "code",
   "execution_count": 35,
   "id": "507885fe",
   "metadata": {},
   "outputs": [
    {
     "data": {
      "text/plain": [
       "<AxesSubplot:xlabel='BasePolicy', ylabel='FraudFound_P'>"
      ]
     },
     "execution_count": 35,
     "metadata": {},
     "output_type": "execute_result"
    },
    {
     "data": {
      "image/png": "[encoded data removed]",
      "text/plain": [
       "<Figure size 432x288 with 1 Axes>"
      ]
     },
     "metadata": {
      "needs_background": "light"
     },
     "output_type": "display_data"
    }
   ],
   "source": [
    "p=data.groupby('BasePolicy').agg({'FraudFound_P':'sum'}).reset_index()\n",
    "sns.barplot(x='BasePolicy', y='FraudFound_P', data = p)"
   ]
  },
  {
   "cell_type": "markdown",
   "id": "8f22845c",
   "metadata": {},
   "source": [
    "RESULT: Majority of fraud claim come from Base policy-All perils."
   ]
  },
  {
   "cell_type": "code",
   "execution_count": 36,
   "id": "25a722b7",
   "metadata": {},
   "outputs": [
    {
     "data": {
      "text/plain": [
       "<AxesSubplot:xlabel='Fault', ylabel='FraudFound_P'>"
      ]
     },
     "execution_count": 36,
     "metadata": {},
     "output_type": "execute_result"
    },
    {
     "data": {
      "image/png": "[encoded data removed]",
      "text/plain": [
       "<Figure size 432x288 with 1 Axes>"
      ]
     },
     "metadata": {
      "needs_background": "light"
     },
     "output_type": "display_data"
    }
   ],
   "source": [
    "q=data.groupby('Fault').agg({'FraudFound_P':'sum'}).reset_index()\n",
    "sns.barplot(x='Fault', y='FraudFound_P', data = q)"
   ]
  },
  {
   "cell_type": "markdown",
   "id": "103255cb",
   "metadata": {},
   "source": [
    "RESULT: Majority of fraud claim are done by policy holders."
   ]
  },
  {
   "cell_type": "code",
   "execution_count": 37,
   "id": "fb13bc34",
   "metadata": {},
   "outputs": [
    {
     "data": {
      "text/plain": [
       "(array([0, 1, 2, 3, 4, 5]),\n",
       " [Text(0, 0, '20000 to 29000'),\n",
       "  Text(1, 0, '30000 to 39000'),\n",
       "  Text(2, 0, '40000 to 59000'),\n",
       "  Text(3, 0, '60000 to 69000'),\n",
       "  Text(4, 0, 'less than 20000'),\n",
       "  Text(5, 0, 'more than 69000')])"
      ]
     },
     "execution_count": 37,
     "metadata": {},
     "output_type": "execute_result"
    },
    {
     "data": {
      "image/png": "[encoded data removed]",
      "text/plain": [
       "<Figure size 432x288 with 1 Axes>"
      ]
     },
     "metadata": {
      "needs_background": "light"
     },
     "output_type": "display_data"
    }
   ],
   "source": [
    "r=data.groupby('VehiclePrice').agg({'FraudFound_P':'sum'}).reset_index()\n",
    "sns.barplot(x='VehiclePrice', y='FraudFound_P', data = r)\n",
    "plt.xticks(rotation=90)"
   ]
  },
  {
   "cell_type": "markdown",
   "id": "6186f042",
   "metadata": {},
   "source": [
    "RESULT: Most of the fraud claim is done for vehicle price - 20000 to 29000"
   ]
  },
  {
   "cell_type": "code",
   "execution_count": 38,
   "id": "f35c3caf",
   "metadata": {},
   "outputs": [
    {
     "data": {
      "text/plain": [
       "<AxesSubplot:xlabel='Sex', ylabel='FraudFound_P'>"
      ]
     },
     "execution_count": 38,
     "metadata": {},
     "output_type": "execute_result"
    },
    {
     "data": {
      "image/png": "[encoded data removed]",
      "text/plain": [
       "<Figure size 432x288 with 1 Axes>"
      ]
     },
     "metadata": {
      "needs_background": "light"
     },
     "output_type": "display_data"
    }
   ],
   "source": [
    "s=data.groupby('Sex').agg({'FraudFound_P':'sum'}).reset_index()\n",
    "sns.barplot(x='Sex', y='FraudFound_P', data = s)"
   ]
  },
  {
   "cell_type": "markdown",
   "id": "f78efc25",
   "metadata": {},
   "source": [
    "RESULT: Majority of fraud claim are done by male."
   ]
  },
  {
   "cell_type": "code",
   "execution_count": 39,
   "id": "90d78ad9",
   "metadata": {},
   "outputs": [
    {
     "data": {
      "text/plain": [
       "<AxesSubplot:xlabel='WitnessPresent', ylabel='FraudFound_P'>"
      ]
     },
     "execution_count": 39,
     "metadata": {},
     "output_type": "execute_result"
    },
    {
     "data": {
      "image/png": "[encoded data removed]",
      "text/plain": [
       "<Figure size 432x288 with 1 Axes>"
      ]
     },
     "metadata": {
      "needs_background": "light"
     },
     "output_type": "display_data"
    }
   ],
   "source": [
    "t=data.groupby('WitnessPresent').agg({'FraudFound_P':'sum'}).reset_index()\n",
    "sns.barplot(x='WitnessPresent', y='FraudFound_P', data = t)"
   ]
  },
  {
   "cell_type": "markdown",
   "id": "d2208f6d",
   "metadata": {},
   "source": [
    "RESULT: Majority of fraud claim done if there is not witness for accident."
   ]
  },
  {
   "cell_type": "code",
   "execution_count": 40,
   "id": "d54c4fa6",
   "metadata": {},
   "outputs": [
    {
     "data": {
      "text/plain": [
       "(array([0, 1, 2, 3, 4, 5, 6, 7]),\n",
       " [Text(0, 0, '2 years'),\n",
       "  Text(1, 0, '3 years'),\n",
       "  Text(2, 0, '4 years'),\n",
       "  Text(3, 0, '5 years'),\n",
       "  Text(4, 0, '6 years'),\n",
       "  Text(5, 0, '7 years'),\n",
       "  Text(6, 0, 'more than 7'),\n",
       "  Text(7, 0, 'new')])"
      ]
     },
     "execution_count": 40,
     "metadata": {},
     "output_type": "execute_result"
    },
    {
     "data": {
      "image/png": "[encoded data removed]",
      "text/plain": [
       "<Figure size 432x288 with 1 Axes>"
      ]
     },
     "metadata": {
      "needs_background": "light"
     },
     "output_type": "display_data"
    }
   ],
   "source": [
    "u=data.groupby('AgeOfVehicle').agg({'FraudFound_P':'sum'}).reset_index()\n",
    "sns.barplot(x='AgeOfVehicle', y='FraudFound_P', data = u)\n",
    "plt.xticks(rotation=90)"
   ]
  },
  {
   "cell_type": "markdown",
   "id": "9e1470cf",
   "metadata": {},
   "source": [
    "RESULT: Majority of fraud claim from vehicle of age 7 years."
   ]
  },
  {
   "cell_type": "markdown",
   "id": "efc48b94",
   "metadata": {},
   "source": [
    "# Step 5: Splitting data as feature columns and target column"
   ]
  },
  {
   "cell_type": "code",
   "execution_count": 41,
   "id": "709e9602",
   "metadata": {},
   "outputs": [],
   "source": [
    "#feature column\n",
    "X=data.drop(['FraudFound_P'],axis=1)\n",
    "#target column\n",
    "y=pd.DataFrame(data['FraudFound_P'])"
   ]
  },
  {
   "cell_type": "markdown",
   "id": "3816f225",
   "metadata": {},
   "source": [
    "# Step 6: Again Preprocess the data"
   ]
  },
  {
   "cell_type": "markdown",
   "id": "d6f10de4",
   "metadata": {},
   "source": [
    "We have already done one preprocessing(filling missing values). Next we are going to do encoding and standardisation"
   ]
  },
  {
   "cell_type": "markdown",
   "id": "38a8ea02",
   "metadata": {},
   "source": [
    "# Encoding"
   ]
  },
  {
   "cell_type": "markdown",
   "id": "0b4146a2",
   "metadata": {},
   "source": [
    "# Label Encoding"
   ]
  },
  {
   "cell_type": "code",
   "execution_count": 42,
   "id": "2c0369db",
   "metadata": {},
   "outputs": [],
   "source": [
    "#label encoding of features Month , DayOfWeek , Make , DayOfWeekClaimed ,MonthClaimed , PolicyType , VehiclePrice ,Days_Policy_Accident , Days_Policy_Claim ,  PastNumberOfClaims , AgeOfVehicle , AgeOfPolicyHolder , NumberOfSuppliments , AddressChange_Claim , NumberOfCars\n",
    "from sklearn.preprocessing import LabelEncoder\n",
    "label_en=LabelEncoder()\n",
    "h=['Month','DayOfWeek','Make','DayOfWeekClaimed','MonthClaimed','PolicyType','VehiclePrice','Days_Policy_Accident', 'Days_Policy_Claim',  'PastNumberOfClaims' , 'AgeOfVehicle' , 'AgeOfPolicyHolder' , 'NumberOfSuppliments' , 'AddressChange_Claim' , 'NumberOfCars','Year']\n",
    "for i in np.arange(len(h)):\n",
    "    X[h[i]] = label_en.fit_transform(X[h[i]])  "
   ]
  },
  {
   "cell_type": "code",
   "execution_count": 43,
   "id": "b27d89db",
   "metadata": {},
   "outputs": [
    {
     "data": {
      "text/html": [
       "<div>\n",
       "<style scoped>\n",
       "    .dataframe tbody tr th:only-of-type {\n",
       "        vertical-align: middle;\n",
       "    }\n",
       "\n",
       "    .dataframe tbody tr th {\n",
       "        vertical-align: top;\n",
       "    }\n",
       "\n",
       "    .dataframe thead th {\n",
       "        text-align: right;\n",
       "    }\n",
       "</style>\n",
       "<table border=\"1\" class=\"dataframe\">\n",
       "  <thead>\n",
       "    <tr style=\"text-align: right;\">\n",
       "      <th></th>\n",
       "      <th>Month</th>\n",
       "      <th>WeekOfMonth</th>\n",
       "      <th>DayOfWeek</th>\n",
       "      <th>Make</th>\n",
       "      <th>AccidentArea</th>\n",
       "      <th>DayOfWeekClaimed</th>\n",
       "      <th>MonthClaimed</th>\n",
       "      <th>WeekOfMonthClaimed</th>\n",
       "      <th>Sex</th>\n",
       "      <th>MaritalStatus</th>\n",
       "      <th>...</th>\n",
       "      <th>AgeOfVehicle</th>\n",
       "      <th>AgeOfPolicyHolder</th>\n",
       "      <th>PoliceReportFiled</th>\n",
       "      <th>WitnessPresent</th>\n",
       "      <th>AgentType</th>\n",
       "      <th>NumberOfSuppliments</th>\n",
       "      <th>AddressChange_Claim</th>\n",
       "      <th>NumberOfCars</th>\n",
       "      <th>Year</th>\n",
       "      <th>BasePolicy</th>\n",
       "    </tr>\n",
       "  </thead>\n",
       "  <tbody>\n",
       "    <tr>\n",
       "      <th>0</th>\n",
       "      <td>2</td>\n",
       "      <td>5</td>\n",
       "      <td>6</td>\n",
       "      <td>6</td>\n",
       "      <td>Urban</td>\n",
       "      <td>5</td>\n",
       "      <td>4</td>\n",
       "      <td>1</td>\n",
       "      <td>Female</td>\n",
       "      <td>Single</td>\n",
       "      <td>...</td>\n",
       "      <td>1</td>\n",
       "      <td>3</td>\n",
       "      <td>No</td>\n",
       "      <td>No</td>\n",
       "      <td>External</td>\n",
       "      <td>3</td>\n",
       "      <td>0</td>\n",
       "      <td>2</td>\n",
       "      <td>0</td>\n",
       "      <td>Liability</td>\n",
       "    </tr>\n",
       "    <tr>\n",
       "      <th>1</th>\n",
       "      <td>4</td>\n",
       "      <td>3</td>\n",
       "      <td>6</td>\n",
       "      <td>6</td>\n",
       "      <td>Urban</td>\n",
       "      <td>1</td>\n",
       "      <td>4</td>\n",
       "      <td>4</td>\n",
       "      <td>Male</td>\n",
       "      <td>Single</td>\n",
       "      <td>...</td>\n",
       "      <td>4</td>\n",
       "      <td>4</td>\n",
       "      <td>Yes</td>\n",
       "      <td>No</td>\n",
       "      <td>External</td>\n",
       "      <td>3</td>\n",
       "      <td>3</td>\n",
       "      <td>0</td>\n",
       "      <td>0</td>\n",
       "      <td>Collision</td>\n",
       "    </tr>\n",
       "    <tr>\n",
       "      <th>2</th>\n",
       "      <td>10</td>\n",
       "      <td>5</td>\n",
       "      <td>0</td>\n",
       "      <td>6</td>\n",
       "      <td>Urban</td>\n",
       "      <td>4</td>\n",
       "      <td>9</td>\n",
       "      <td>2</td>\n",
       "      <td>Male</td>\n",
       "      <td>Married</td>\n",
       "      <td>...</td>\n",
       "      <td>5</td>\n",
       "      <td>6</td>\n",
       "      <td>No</td>\n",
       "      <td>No</td>\n",
       "      <td>External</td>\n",
       "      <td>3</td>\n",
       "      <td>3</td>\n",
       "      <td>0</td>\n",
       "      <td>0</td>\n",
       "      <td>Collision</td>\n",
       "    </tr>\n",
       "    <tr>\n",
       "      <th>3</th>\n",
       "      <td>6</td>\n",
       "      <td>2</td>\n",
       "      <td>2</td>\n",
       "      <td>17</td>\n",
       "      <td>Rural</td>\n",
       "      <td>0</td>\n",
       "      <td>5</td>\n",
       "      <td>1</td>\n",
       "      <td>Male</td>\n",
       "      <td>Married</td>\n",
       "      <td>...</td>\n",
       "      <td>6</td>\n",
       "      <td>7</td>\n",
       "      <td>Yes</td>\n",
       "      <td>No</td>\n",
       "      <td>External</td>\n",
       "      <td>2</td>\n",
       "      <td>3</td>\n",
       "      <td>0</td>\n",
       "      <td>0</td>\n",
       "      <td>Liability</td>\n",
       "    </tr>\n",
       "    <tr>\n",
       "      <th>4</th>\n",
       "      <td>4</td>\n",
       "      <td>5</td>\n",
       "      <td>1</td>\n",
       "      <td>6</td>\n",
       "      <td>Urban</td>\n",
       "      <td>5</td>\n",
       "      <td>3</td>\n",
       "      <td>2</td>\n",
       "      <td>Female</td>\n",
       "      <td>Single</td>\n",
       "      <td>...</td>\n",
       "      <td>3</td>\n",
       "      <td>4</td>\n",
       "      <td>No</td>\n",
       "      <td>No</td>\n",
       "      <td>External</td>\n",
       "      <td>3</td>\n",
       "      <td>3</td>\n",
       "      <td>0</td>\n",
       "      <td>0</td>\n",
       "      <td>Collision</td>\n",
       "    </tr>\n",
       "  </tbody>\n",
       "</table>\n",
       "<p>5 rows × 32 columns</p>\n",
       "</div>"
      ],
      "text/plain": [
       "   Month  WeekOfMonth  DayOfWeek  Make AccidentArea  DayOfWeekClaimed  \\\n",
       "0      2            5          6     6        Urban                 5   \n",
       "1      4            3          6     6        Urban                 1   \n",
       "2     10            5          0     6        Urban                 4   \n",
       "3      6            2          2    17        Rural                 0   \n",
       "4      4            5          1     6        Urban                 5   \n",
       "\n",
       "   MonthClaimed  WeekOfMonthClaimed     Sex MaritalStatus  ...  AgeOfVehicle  \\\n",
       "0             4                   1  Female        Single  ...             1   \n",
       "1             4                   4    Male        Single  ...             4   \n",
       "2             9                   2    Male       Married  ...             5   \n",
       "3             5                   1    Male       Married  ...             6   \n",
       "4             3                   2  Female        Single  ...             3   \n",
       "\n",
       "  AgeOfPolicyHolder  PoliceReportFiled WitnessPresent  AgentType  \\\n",
       "0                 3                 No             No   External   \n",
       "1                 4                Yes             No   External   \n",
       "2                 6                 No             No   External   \n",
       "3                 7                Yes             No   External   \n",
       "4                 4                 No             No   External   \n",
       "\n",
       "   NumberOfSuppliments  AddressChange_Claim  NumberOfCars  Year  BasePolicy  \n",
       "0                    3                    0             2     0   Liability  \n",
       "1                    3                    3             0     0   Collision  \n",
       "2                    3                    3             0     0   Collision  \n",
       "3                    2                    3             0     0   Liability  \n",
       "4                    3                    3             0     0   Collision  \n",
       "\n",
       "[5 rows x 32 columns]"
      ]
     },
     "execution_count": 43,
     "metadata": {},
     "output_type": "execute_result"
    }
   ],
   "source": [
    "X.head()"
   ]
  },
  {
   "cell_type": "markdown",
   "id": "5967c976",
   "metadata": {},
   "source": [
    "Description of Label encodings of each feature column\n",
    "\n",
    "Feature column: Month,MonthClaimed\n",
    "    \n",
    "    Jan - 4\n",
    "    \n",
    "    Feb - 3\n",
    "    \n",
    "    Mar - 7\n",
    "    \n",
    "    Apr - 0\n",
    "    \n",
    "    May - 8\n",
    "    \n",
    "    Jun - 5\n",
    "    \n",
    "    Jul - 6\n",
    "    \n",
    "    Aug - 1\n",
    "    \n",
    "    Sep - 11\n",
    "    \n",
    "    Oct - 10\n",
    "    \n",
    "    Nov - 9\n",
    "    \n",
    "    Dec - 2"
   ]
  },
  {
   "cell_type": "markdown",
   "id": "e8325eab",
   "metadata": {},
   "source": [
    "Feature column - DayofWeek,DayOfWeekClaimed\n",
    "\n",
    "Monday - 1\n",
    "\n",
    "Tuesday - 5\n",
    "\n",
    "Wednesday - 6\n",
    "\n",
    "Thursday - 4\n",
    "\n",
    "Friday - 0\n",
    "\n",
    "Saturday - 2\n",
    "\n",
    "Sunday - 3"
   ]
  },
  {
   "cell_type": "markdown",
   "id": "e2ae88ca",
   "metadata": {},
   "source": [
    "Feature column - Make \n",
    "\n",
    "Honda - 6\n",
    "\n",
    "Toyota - 17\n",
    "\n",
    "Ford - 5\n",
    "\n",
    "Mazda - 9\n",
    "\n",
    "Chevrolet - 2\n",
    "\n",
    "Pontiac - 13\n",
    "\n",
    "Accura - 0\n",
    "\n",
    "Dodge - 3 \n",
    " \n",
    "Mercury - 11\n",
    "\n",
    "Jaguar - 7\n",
    "\n",
    "Nisson - 12\n",
    "\n",
    "VW - 18\n",
    "\n",
    "Saab - 15\n",
    "\n",
    "Saturn - 16\n",
    "\n",
    "Porche - 14\n",
    "\n",
    "BMW - 1\n",
    "\n",
    "Mecedes - 10\n",
    "\n",
    "Ferrari - 4\n",
    "\n",
    "Lexus - 8"
   ]
  },
  {
   "cell_type": "markdown",
   "id": "bb9231a7",
   "metadata": {},
   "source": [
    "Feature column - PolicyType\n",
    "\n",
    "Sport - Liability - 5\n",
    "\n",
    "Sport - Collision - 4\n",
    "\n",
    "Sedan - Liability - 2\n",
    "\n",
    "Utility - All Perils - 6\n",
    "\n",
    "Sedan - All Perils - 0\n",
    "\n",
    "Sedan - Collision  - 1\n",
    "\n",
    "Utility - Collision - 7\n",
    "\n",
    "Utility - Liability -  8\n",
    "\n",
    "Sport - All Perils - 3"
   ]
  },
  {
   "cell_type": "markdown",
   "id": "ecf33c98",
   "metadata": {},
   "source": [
    "Feature column - Days_Policy_Accident\n",
    "\n",
    "more than 30 - 3\n",
    "\n",
    "15 to 30 - 2\n",
    "\n",
    "none - 4\n",
    "\n",
    "1 to 7 - 0\n",
    "\n",
    "8 to 15 - 1"
   ]
  },
  {
   "cell_type": "markdown",
   "id": "62fe5f71",
   "metadata": {},
   "source": [
    "Feature column - VehiclePrice\n",
    "\n",
    "more than 69000 - 5\n",
    "\n",
    "20000 to 29000 - 0\n",
    "\n",
    "30000 to 39000 - 1\n",
    "\n",
    "less than 20000 - 4\n",
    "\n",
    "40000 to 59000 - 2\n",
    "\n",
    "60000 to 69000 - 3"
   ]
  },
  {
   "cell_type": "markdown",
   "id": "39e3e228",
   "metadata": {},
   "source": [
    "Feature Column - Days_Policy_Claim\n",
    "\n",
    "more than 30 - 2\n",
    "\n",
    "15 to 30 - 1\n",
    "\n",
    "8 to 15 - 0\n",
    "\n",
    "none - 3"
   ]
  },
  {
   "cell_type": "markdown",
   "id": "130f33dc",
   "metadata": {},
   "source": [
    "Feature Column - PastNumberOfClaims\n",
    "\n",
    "none - 3\n",
    "\n",
    "1 - 0\n",
    "\n",
    "2 to 4 - 1\n",
    "\n",
    "more than 4 - 2\n"
   ]
  },
  {
   "cell_type": "markdown",
   "id": "8131d066",
   "metadata": {},
   "source": [
    "Feature Column - AgeOfVehicle\n",
    "\n",
    "3 years - 1\n",
    "\n",
    "6 years - 4\n",
    "\n",
    "7 years - 5\n",
    "\n",
    "more than 7 - 6\n",
    "\n",
    "5 years - 3\n",
    "\n",
    "new - 7\n",
    "\n",
    "4 years - 2\n",
    "\n",
    "2 years - 0"
   ]
  },
  {
   "cell_type": "markdown",
   "id": "aebe972f",
   "metadata": {},
   "source": [
    "Feature Column - AgeOfPolicyHolder\n",
    "\n",
    "26 to 30 - 3\n",
    "\n",
    "31 to 35 - 4 \n",
    "\n",
    "41 to 50 - 6\n",
    "\n",
    "51 to 65 - 7\n",
    "\n",
    "21 to 25 - 2\n",
    "\n",
    "36 to 40 - 5\n",
    "\n",
    "16 to 17 - 0\n",
    "\n",
    "over 65 - 8\n",
    "\n",
    "18 to 20 - 1"
   ]
  },
  {
   "cell_type": "markdown",
   "id": "09528a14",
   "metadata": {},
   "source": [
    "Feature Column - NumberOfSuppliments\n",
    "\n",
    "none - 3\n",
    "\n",
    "more than 5 - 2\n",
    "\n",
    "3 to 5 - 1\n",
    "\n",
    "1 to 2 - 0"
   ]
  },
  {
   "cell_type": "markdown",
   "id": "70bf1c11",
   "metadata": {},
   "source": [
    "Feature Column - AddressChange_Claim\n",
    "\n",
    "1 year - 0\n",
    "\n",
    "no change - 3\n",
    "\n",
    "4 to 8 years - 2\n",
    "\n",
    "2 to 3 years - 1\n",
    "\n",
    "under 6 months - 4"
   ]
  },
  {
   "cell_type": "markdown",
   "id": "c3d53231",
   "metadata": {},
   "source": [
    "Feature Column - NumberOfCars\n",
    "\n",
    "3 to 4 - 2\n",
    "\n",
    "1 vehicle - 0\n",
    "\n",
    "2 vehicles - 1\n",
    "\n",
    "5 to 8 - 3\n",
    "\n",
    "more than 8  - 4"
   ]
  },
  {
   "cell_type": "markdown",
   "id": "ee75e248",
   "metadata": {},
   "source": [
    "Feature column - Year\n",
    "\n",
    "1994 - 0\n",
    "\n",
    "1995 - 1 \n",
    "\n",
    "1996 - 2"
   ]
  },
  {
   "cell_type": "markdown",
   "id": "791eefac",
   "metadata": {},
   "source": [
    "# One-hot encoding"
   ]
  },
  {
   "cell_type": "code",
   "execution_count": 44,
   "id": "87acbc49",
   "metadata": {},
   "outputs": [],
   "source": [
    "X = pd.get_dummies(X)"
   ]
  },
  {
   "cell_type": "code",
   "execution_count": 45,
   "id": "7b0d4dd1",
   "metadata": {},
   "outputs": [
    {
     "data": {
      "text/html": [
       "<div>\n",
       "<style scoped>\n",
       "    .dataframe tbody tr th:only-of-type {\n",
       "        vertical-align: middle;\n",
       "    }\n",
       "\n",
       "    .dataframe tbody tr th {\n",
       "        vertical-align: top;\n",
       "    }\n",
       "\n",
       "    .dataframe thead th {\n",
       "        text-align: right;\n",
       "    }\n",
       "</style>\n",
       "<table border=\"1\" class=\"dataframe\">\n",
       "  <thead>\n",
       "    <tr style=\"text-align: right;\">\n",
       "      <th></th>\n",
       "      <th>Month</th>\n",
       "      <th>WeekOfMonth</th>\n",
       "      <th>DayOfWeek</th>\n",
       "      <th>Make</th>\n",
       "      <th>DayOfWeekClaimed</th>\n",
       "      <th>MonthClaimed</th>\n",
       "      <th>WeekOfMonthClaimed</th>\n",
       "      <th>Age</th>\n",
       "      <th>PolicyType</th>\n",
       "      <th>VehiclePrice</th>\n",
       "      <th>...</th>\n",
       "      <th>VehicleCategory_Utility</th>\n",
       "      <th>PoliceReportFiled_No</th>\n",
       "      <th>PoliceReportFiled_Yes</th>\n",
       "      <th>WitnessPresent_No</th>\n",
       "      <th>WitnessPresent_Yes</th>\n",
       "      <th>AgentType_External</th>\n",
       "      <th>AgentType_Internal</th>\n",
       "      <th>BasePolicy_All Perils</th>\n",
       "      <th>BasePolicy_Collision</th>\n",
       "      <th>BasePolicy_Liability</th>\n",
       "    </tr>\n",
       "  </thead>\n",
       "  <tbody>\n",
       "    <tr>\n",
       "      <th>0</th>\n",
       "      <td>2</td>\n",
       "      <td>5</td>\n",
       "      <td>6</td>\n",
       "      <td>6</td>\n",
       "      <td>5</td>\n",
       "      <td>4</td>\n",
       "      <td>1</td>\n",
       "      <td>21.0</td>\n",
       "      <td>5</td>\n",
       "      <td>5</td>\n",
       "      <td>...</td>\n",
       "      <td>0</td>\n",
       "      <td>1</td>\n",
       "      <td>0</td>\n",
       "      <td>1</td>\n",
       "      <td>0</td>\n",
       "      <td>1</td>\n",
       "      <td>0</td>\n",
       "      <td>0</td>\n",
       "      <td>0</td>\n",
       "      <td>1</td>\n",
       "    </tr>\n",
       "    <tr>\n",
       "      <th>1</th>\n",
       "      <td>4</td>\n",
       "      <td>3</td>\n",
       "      <td>6</td>\n",
       "      <td>6</td>\n",
       "      <td>1</td>\n",
       "      <td>4</td>\n",
       "      <td>4</td>\n",
       "      <td>34.0</td>\n",
       "      <td>4</td>\n",
       "      <td>5</td>\n",
       "      <td>...</td>\n",
       "      <td>0</td>\n",
       "      <td>0</td>\n",
       "      <td>1</td>\n",
       "      <td>1</td>\n",
       "      <td>0</td>\n",
       "      <td>1</td>\n",
       "      <td>0</td>\n",
       "      <td>0</td>\n",
       "      <td>1</td>\n",
       "      <td>0</td>\n",
       "    </tr>\n",
       "    <tr>\n",
       "      <th>2</th>\n",
       "      <td>10</td>\n",
       "      <td>5</td>\n",
       "      <td>0</td>\n",
       "      <td>6</td>\n",
       "      <td>4</td>\n",
       "      <td>9</td>\n",
       "      <td>2</td>\n",
       "      <td>47.0</td>\n",
       "      <td>4</td>\n",
       "      <td>5</td>\n",
       "      <td>...</td>\n",
       "      <td>0</td>\n",
       "      <td>1</td>\n",
       "      <td>0</td>\n",
       "      <td>1</td>\n",
       "      <td>0</td>\n",
       "      <td>1</td>\n",
       "      <td>0</td>\n",
       "      <td>0</td>\n",
       "      <td>1</td>\n",
       "      <td>0</td>\n",
       "    </tr>\n",
       "    <tr>\n",
       "      <th>3</th>\n",
       "      <td>6</td>\n",
       "      <td>2</td>\n",
       "      <td>2</td>\n",
       "      <td>17</td>\n",
       "      <td>0</td>\n",
       "      <td>5</td>\n",
       "      <td>1</td>\n",
       "      <td>65.0</td>\n",
       "      <td>2</td>\n",
       "      <td>0</td>\n",
       "      <td>...</td>\n",
       "      <td>0</td>\n",
       "      <td>0</td>\n",
       "      <td>1</td>\n",
       "      <td>1</td>\n",
       "      <td>0</td>\n",
       "      <td>1</td>\n",
       "      <td>0</td>\n",
       "      <td>0</td>\n",
       "      <td>0</td>\n",
       "      <td>1</td>\n",
       "    </tr>\n",
       "    <tr>\n",
       "      <th>4</th>\n",
       "      <td>4</td>\n",
       "      <td>5</td>\n",
       "      <td>1</td>\n",
       "      <td>6</td>\n",
       "      <td>5</td>\n",
       "      <td>3</td>\n",
       "      <td>2</td>\n",
       "      <td>27.0</td>\n",
       "      <td>4</td>\n",
       "      <td>5</td>\n",
       "      <td>...</td>\n",
       "      <td>0</td>\n",
       "      <td>1</td>\n",
       "      <td>0</td>\n",
       "      <td>1</td>\n",
       "      <td>0</td>\n",
       "      <td>1</td>\n",
       "      <td>0</td>\n",
       "      <td>0</td>\n",
       "      <td>1</td>\n",
       "      <td>0</td>\n",
       "    </tr>\n",
       "  </tbody>\n",
       "</table>\n",
       "<p>5 rows × 45 columns</p>\n",
       "</div>"
      ],
      "text/plain": [
       "   Month  WeekOfMonth  DayOfWeek  Make  DayOfWeekClaimed  MonthClaimed  \\\n",
       "0      2            5          6     6                 5             4   \n",
       "1      4            3          6     6                 1             4   \n",
       "2     10            5          0     6                 4             9   \n",
       "3      6            2          2    17                 0             5   \n",
       "4      4            5          1     6                 5             3   \n",
       "\n",
       "   WeekOfMonthClaimed   Age  PolicyType  VehiclePrice  ...  \\\n",
       "0                   1  21.0           5             5  ...   \n",
       "1                   4  34.0           4             5  ...   \n",
       "2                   2  47.0           4             5  ...   \n",
       "3                   1  65.0           2             0  ...   \n",
       "4                   2  27.0           4             5  ...   \n",
       "\n",
       "   VehicleCategory_Utility  PoliceReportFiled_No  PoliceReportFiled_Yes  \\\n",
       "0                        0                     1                      0   \n",
       "1                        0                     0                      1   \n",
       "2                        0                     1                      0   \n",
       "3                        0                     0                      1   \n",
       "4                        0                     1                      0   \n",
       "\n",
       "   WitnessPresent_No  WitnessPresent_Yes  AgentType_External  \\\n",
       "0                  1                   0                   1   \n",
       "1                  1                   0                   1   \n",
       "2                  1                   0                   1   \n",
       "3                  1                   0                   1   \n",
       "4                  1                   0                   1   \n",
       "\n",
       "   AgentType_Internal  BasePolicy_All Perils  BasePolicy_Collision  \\\n",
       "0                   0                      0                     0   \n",
       "1                   0                      0                     1   \n",
       "2                   0                      0                     1   \n",
       "3                   0                      0                     0   \n",
       "4                   0                      0                     1   \n",
       "\n",
       "   BasePolicy_Liability  \n",
       "0                     1  \n",
       "1                     0  \n",
       "2                     0  \n",
       "3                     1  \n",
       "4                     0  \n",
       "\n",
       "[5 rows x 45 columns]"
      ]
     },
     "execution_count": 45,
     "metadata": {},
     "output_type": "execute_result"
    }
   ],
   "source": [
    "X.head()"
   ]
  },
  {
   "cell_type": "markdown",
   "id": "640786c0",
   "metadata": {},
   "source": [
    "# Standardisation"
   ]
  },
  {
   "cell_type": "code",
   "execution_count": 46,
   "id": "5c331745",
   "metadata": {},
   "outputs": [
    {
     "data": {
      "text/html": [
       "<div>\n",
       "<style scoped>\n",
       "    .dataframe tbody tr th:only-of-type {\n",
       "        vertical-align: middle;\n",
       "    }\n",
       "\n",
       "    .dataframe tbody tr th {\n",
       "        vertical-align: top;\n",
       "    }\n",
       "\n",
       "    .dataframe thead th {\n",
       "        text-align: right;\n",
       "    }\n",
       "</style>\n",
       "<table border=\"1\" class=\"dataframe\">\n",
       "  <thead>\n",
       "    <tr style=\"text-align: right;\">\n",
       "      <th></th>\n",
       "      <th>Month</th>\n",
       "      <th>WeekOfMonth</th>\n",
       "      <th>DayOfWeek</th>\n",
       "      <th>Make</th>\n",
       "      <th>DayOfWeekClaimed</th>\n",
       "      <th>MonthClaimed</th>\n",
       "      <th>WeekOfMonthClaimed</th>\n",
       "      <th>Age</th>\n",
       "      <th>PolicyType</th>\n",
       "      <th>VehiclePrice</th>\n",
       "      <th>...</th>\n",
       "      <th>VehicleCategory_Utility</th>\n",
       "      <th>PoliceReportFiled_No</th>\n",
       "      <th>PoliceReportFiled_Yes</th>\n",
       "      <th>WitnessPresent_No</th>\n",
       "      <th>WitnessPresent_Yes</th>\n",
       "      <th>AgentType_External</th>\n",
       "      <th>AgentType_Internal</th>\n",
       "      <th>BasePolicy_All Perils</th>\n",
       "      <th>BasePolicy_Collision</th>\n",
       "      <th>BasePolicy_Liability</th>\n",
       "    </tr>\n",
       "  </thead>\n",
       "  <tbody>\n",
       "    <tr>\n",
       "      <th>count</th>\n",
       "      <td>15420.000000</td>\n",
       "      <td>15420.000000</td>\n",
       "      <td>15420.000000</td>\n",
       "      <td>15420.000000</td>\n",
       "      <td>15420.000000</td>\n",
       "      <td>15420.000000</td>\n",
       "      <td>15420.000000</td>\n",
       "      <td>15420.000000</td>\n",
       "      <td>15420.000000</td>\n",
       "      <td>15420.000000</td>\n",
       "      <td>...</td>\n",
       "      <td>15420.000000</td>\n",
       "      <td>15420.000000</td>\n",
       "      <td>15420.000000</td>\n",
       "      <td>15420.000000</td>\n",
       "      <td>15420.000000</td>\n",
       "      <td>15420.000000</td>\n",
       "      <td>15420.000000</td>\n",
       "      <td>15420.000000</td>\n",
       "      <td>15420.000000</td>\n",
       "      <td>15420.000000</td>\n",
       "    </tr>\n",
       "    <tr>\n",
       "      <th>mean</th>\n",
       "      <td>5.532101</td>\n",
       "      <td>2.788586</td>\n",
       "      <td>2.915759</td>\n",
       "      <td>10.114591</td>\n",
       "      <td>3.202918</td>\n",
       "      <td>5.596044</td>\n",
       "      <td>2.693969</td>\n",
       "      <td>40.198119</td>\n",
       "      <td>1.260636</td>\n",
       "      <td>1.291829</td>\n",
       "      <td>...</td>\n",
       "      <td>0.025357</td>\n",
       "      <td>0.972244</td>\n",
       "      <td>0.027756</td>\n",
       "      <td>0.994358</td>\n",
       "      <td>0.005642</td>\n",
       "      <td>0.984371</td>\n",
       "      <td>0.015629</td>\n",
       "      <td>0.288521</td>\n",
       "      <td>0.386641</td>\n",
       "      <td>0.324838</td>\n",
       "    </tr>\n",
       "    <tr>\n",
       "      <th>std</th>\n",
       "      <td>3.409595</td>\n",
       "      <td>1.287585</td>\n",
       "      <td>2.055485</td>\n",
       "      <td>5.282919</td>\n",
       "      <td>2.273761</td>\n",
       "      <td>3.410562</td>\n",
       "      <td>1.259115</td>\n",
       "      <td>12.660221</td>\n",
       "      <td>1.190999</td>\n",
       "      <td>1.837535</td>\n",
       "      <td>...</td>\n",
       "      <td>0.157211</td>\n",
       "      <td>0.164279</td>\n",
       "      <td>0.164279</td>\n",
       "      <td>0.074904</td>\n",
       "      <td>0.074904</td>\n",
       "      <td>0.124039</td>\n",
       "      <td>0.124039</td>\n",
       "      <td>0.453090</td>\n",
       "      <td>0.486996</td>\n",
       "      <td>0.468329</td>\n",
       "    </tr>\n",
       "    <tr>\n",
       "      <th>min</th>\n",
       "      <td>0.000000</td>\n",
       "      <td>1.000000</td>\n",
       "      <td>0.000000</td>\n",
       "      <td>0.000000</td>\n",
       "      <td>0.000000</td>\n",
       "      <td>0.000000</td>\n",
       "      <td>1.000000</td>\n",
       "      <td>16.000000</td>\n",
       "      <td>0.000000</td>\n",
       "      <td>0.000000</td>\n",
       "      <td>...</td>\n",
       "      <td>0.000000</td>\n",
       "      <td>0.000000</td>\n",
       "      <td>0.000000</td>\n",
       "      <td>0.000000</td>\n",
       "      <td>0.000000</td>\n",
       "      <td>0.000000</td>\n",
       "      <td>0.000000</td>\n",
       "      <td>0.000000</td>\n",
       "      <td>0.000000</td>\n",
       "      <td>0.000000</td>\n",
       "    </tr>\n",
       "    <tr>\n",
       "      <th>25%</th>\n",
       "      <td>3.000000</td>\n",
       "      <td>2.000000</td>\n",
       "      <td>1.000000</td>\n",
       "      <td>6.000000</td>\n",
       "      <td>1.000000</td>\n",
       "      <td>3.000000</td>\n",
       "      <td>2.000000</td>\n",
       "      <td>31.000000</td>\n",
       "      <td>0.000000</td>\n",
       "      <td>0.000000</td>\n",
       "      <td>...</td>\n",
       "      <td>0.000000</td>\n",
       "      <td>1.000000</td>\n",
       "      <td>0.000000</td>\n",
       "      <td>1.000000</td>\n",
       "      <td>0.000000</td>\n",
       "      <td>1.000000</td>\n",
       "      <td>0.000000</td>\n",
       "      <td>0.000000</td>\n",
       "      <td>0.000000</td>\n",
       "      <td>0.000000</td>\n",
       "    </tr>\n",
       "    <tr>\n",
       "      <th>50%</th>\n",
       "      <td>6.000000</td>\n",
       "      <td>3.000000</td>\n",
       "      <td>3.000000</td>\n",
       "      <td>9.000000</td>\n",
       "      <td>4.000000</td>\n",
       "      <td>6.000000</td>\n",
       "      <td>3.000000</td>\n",
       "      <td>38.000000</td>\n",
       "      <td>1.000000</td>\n",
       "      <td>0.000000</td>\n",
       "      <td>...</td>\n",
       "      <td>0.000000</td>\n",
       "      <td>1.000000</td>\n",
       "      <td>0.000000</td>\n",
       "      <td>1.000000</td>\n",
       "      <td>0.000000</td>\n",
       "      <td>1.000000</td>\n",
       "      <td>0.000000</td>\n",
       "      <td>0.000000</td>\n",
       "      <td>0.000000</td>\n",
       "      <td>0.000000</td>\n",
       "    </tr>\n",
       "    <tr>\n",
       "      <th>75%</th>\n",
       "      <td>8.000000</td>\n",
       "      <td>4.000000</td>\n",
       "      <td>5.000000</td>\n",
       "      <td>13.000000</td>\n",
       "      <td>5.000000</td>\n",
       "      <td>9.000000</td>\n",
       "      <td>4.000000</td>\n",
       "      <td>48.000000</td>\n",
       "      <td>2.000000</td>\n",
       "      <td>1.000000</td>\n",
       "      <td>...</td>\n",
       "      <td>0.000000</td>\n",
       "      <td>1.000000</td>\n",
       "      <td>0.000000</td>\n",
       "      <td>1.000000</td>\n",
       "      <td>0.000000</td>\n",
       "      <td>1.000000</td>\n",
       "      <td>0.000000</td>\n",
       "      <td>1.000000</td>\n",
       "      <td>1.000000</td>\n",
       "      <td>1.000000</td>\n",
       "    </tr>\n",
       "    <tr>\n",
       "      <th>max</th>\n",
       "      <td>11.000000</td>\n",
       "      <td>5.000000</td>\n",
       "      <td>6.000000</td>\n",
       "      <td>18.000000</td>\n",
       "      <td>6.000000</td>\n",
       "      <td>11.000000</td>\n",
       "      <td>5.000000</td>\n",
       "      <td>80.000000</td>\n",
       "      <td>8.000000</td>\n",
       "      <td>5.000000</td>\n",
       "      <td>...</td>\n",
       "      <td>1.000000</td>\n",
       "      <td>1.000000</td>\n",
       "      <td>1.000000</td>\n",
       "      <td>1.000000</td>\n",
       "      <td>1.000000</td>\n",
       "      <td>1.000000</td>\n",
       "      <td>1.000000</td>\n",
       "      <td>1.000000</td>\n",
       "      <td>1.000000</td>\n",
       "      <td>1.000000</td>\n",
       "    </tr>\n",
       "  </tbody>\n",
       "</table>\n",
       "<p>8 rows × 45 columns</p>\n",
       "</div>"
      ],
      "text/plain": [
       "              Month   WeekOfMonth     DayOfWeek          Make  \\\n",
       "count  15420.000000  15420.000000  15420.000000  15420.000000   \n",
       "mean       5.532101      2.788586      2.915759     10.114591   \n",
       "std        3.409595      1.287585      2.055485      5.282919   \n",
       "min        0.000000      1.000000      0.000000      0.000000   \n",
       "25%        3.000000      2.000000      1.000000      6.000000   \n",
       "50%        6.000000      3.000000      3.000000      9.000000   \n",
       "75%        8.000000      4.000000      5.000000     13.000000   \n",
       "max       11.000000      5.000000      6.000000     18.000000   \n",
       "\n",
       "       DayOfWeekClaimed  MonthClaimed  WeekOfMonthClaimed           Age  \\\n",
       "count      15420.000000  15420.000000        15420.000000  15420.000000   \n",
       "mean           3.202918      5.596044            2.693969     40.198119   \n",
       "std            2.273761      3.410562            1.259115     12.660221   \n",
       "min            0.000000      0.000000            1.000000     16.000000   \n",
       "25%            1.000000      3.000000            2.000000     31.000000   \n",
       "50%            4.000000      6.000000            3.000000     38.000000   \n",
       "75%            5.000000      9.000000            4.000000     48.000000   \n",
       "max            6.000000     11.000000            5.000000     80.000000   \n",
       "\n",
       "         PolicyType  VehiclePrice  ...  VehicleCategory_Utility  \\\n",
       "count  15420.000000  15420.000000  ...             15420.000000   \n",
       "mean       1.260636      1.291829  ...                 0.025357   \n",
       "std        1.190999      1.837535  ...                 0.157211   \n",
       "min        0.000000      0.000000  ...                 0.000000   \n",
       "25%        0.000000      0.000000  ...                 0.000000   \n",
       "50%        1.000000      0.000000  ...                 0.000000   \n",
       "75%        2.000000      1.000000  ...                 0.000000   \n",
       "max        8.000000      5.000000  ...                 1.000000   \n",
       "\n",
       "       PoliceReportFiled_No  PoliceReportFiled_Yes  WitnessPresent_No  \\\n",
       "count          15420.000000           15420.000000       15420.000000   \n",
       "mean               0.972244               0.027756           0.994358   \n",
       "std                0.164279               0.164279           0.074904   \n",
       "min                0.000000               0.000000           0.000000   \n",
       "25%                1.000000               0.000000           1.000000   \n",
       "50%                1.000000               0.000000           1.000000   \n",
       "75%                1.000000               0.000000           1.000000   \n",
       "max                1.000000               1.000000           1.000000   \n",
       "\n",
       "       WitnessPresent_Yes  AgentType_External  AgentType_Internal  \\\n",
       "count        15420.000000        15420.000000        15420.000000   \n",
       "mean             0.005642            0.984371            0.015629   \n",
       "std              0.074904            0.124039            0.124039   \n",
       "min              0.000000            0.000000            0.000000   \n",
       "25%              0.000000            1.000000            0.000000   \n",
       "50%              0.000000            1.000000            0.000000   \n",
       "75%              0.000000            1.000000            0.000000   \n",
       "max              1.000000            1.000000            1.000000   \n",
       "\n",
       "       BasePolicy_All Perils  BasePolicy_Collision  BasePolicy_Liability  \n",
       "count           15420.000000          15420.000000          15420.000000  \n",
       "mean                0.288521              0.386641              0.324838  \n",
       "std                 0.453090              0.486996              0.468329  \n",
       "min                 0.000000              0.000000              0.000000  \n",
       "25%                 0.000000              0.000000              0.000000  \n",
       "50%                 0.000000              0.000000              0.000000  \n",
       "75%                 1.000000              1.000000              1.000000  \n",
       "max                 1.000000              1.000000              1.000000  \n",
       "\n",
       "[8 rows x 45 columns]"
      ]
     },
     "execution_count": 46,
     "metadata": {},
     "output_type": "execute_result"
    }
   ],
   "source": [
    "X.describe()"
   ]
  },
  {
   "cell_type": "code",
   "execution_count": 47,
   "id": "e3b41875",
   "metadata": {},
   "outputs": [],
   "source": [
    "from sklearn.preprocessing import StandardScaler\n",
    "sc=StandardScaler()\n",
    "X= sc.fit_transform(X)"
   ]
  },
  {
   "cell_type": "code",
   "execution_count": 48,
   "id": "c9292967",
   "metadata": {},
   "outputs": [],
   "source": [
    "X=pd.DataFrame(X)"
   ]
  },
  {
   "cell_type": "code",
   "execution_count": 49,
   "id": "31181460",
   "metadata": {},
   "outputs": [
    {
     "data": {
      "text/html": [
       "<div>\n",
       "<style scoped>\n",
       "    .dataframe tbody tr th:only-of-type {\n",
       "        vertical-align: middle;\n",
       "    }\n",
       "\n",
       "    .dataframe tbody tr th {\n",
       "        vertical-align: top;\n",
       "    }\n",
       "\n",
       "    .dataframe thead th {\n",
       "        text-align: right;\n",
       "    }\n",
       "</style>\n",
       "<table border=\"1\" class=\"dataframe\">\n",
       "  <thead>\n",
       "    <tr style=\"text-align: right;\">\n",
       "      <th></th>\n",
       "      <th>0</th>\n",
       "      <th>1</th>\n",
       "      <th>2</th>\n",
       "      <th>3</th>\n",
       "      <th>4</th>\n",
       "      <th>5</th>\n",
       "      <th>6</th>\n",
       "      <th>7</th>\n",
       "      <th>8</th>\n",
       "      <th>9</th>\n",
       "      <th>...</th>\n",
       "      <th>35</th>\n",
       "      <th>36</th>\n",
       "      <th>37</th>\n",
       "      <th>38</th>\n",
       "      <th>39</th>\n",
       "      <th>40</th>\n",
       "      <th>41</th>\n",
       "      <th>42</th>\n",
       "      <th>43</th>\n",
       "      <th>44</th>\n",
       "    </tr>\n",
       "  </thead>\n",
       "  <tbody>\n",
       "    <tr>\n",
       "      <th>count</th>\n",
       "      <td>1.542000e+04</td>\n",
       "      <td>1.542000e+04</td>\n",
       "      <td>1.542000e+04</td>\n",
       "      <td>1.542000e+04</td>\n",
       "      <td>1.542000e+04</td>\n",
       "      <td>1.542000e+04</td>\n",
       "      <td>1.542000e+04</td>\n",
       "      <td>1.542000e+04</td>\n",
       "      <td>1.542000e+04</td>\n",
       "      <td>1.542000e+04</td>\n",
       "      <td>...</td>\n",
       "      <td>1.542000e+04</td>\n",
       "      <td>1.542000e+04</td>\n",
       "      <td>1.542000e+04</td>\n",
       "      <td>1.542000e+04</td>\n",
       "      <td>1.542000e+04</td>\n",
       "      <td>1.542000e+04</td>\n",
       "      <td>1.542000e+04</td>\n",
       "      <td>1.542000e+04</td>\n",
       "      <td>1.542000e+04</td>\n",
       "      <td>1.542000e+04</td>\n",
       "    </tr>\n",
       "    <tr>\n",
       "      <th>mean</th>\n",
       "      <td>-3.082705e-16</td>\n",
       "      <td>1.502019e-15</td>\n",
       "      <td>7.038612e-17</td>\n",
       "      <td>-1.819268e-16</td>\n",
       "      <td>2.255942e-16</td>\n",
       "      <td>9.403056e-16</td>\n",
       "      <td>1.592688e-16</td>\n",
       "      <td>-7.423087e-17</td>\n",
       "      <td>-1.048774e-15</td>\n",
       "      <td>5.296023e-15</td>\n",
       "      <td>...</td>\n",
       "      <td>-6.532388e-16</td>\n",
       "      <td>-4.411545e-15</td>\n",
       "      <td>4.418727e-15</td>\n",
       "      <td>-1.661315e-15</td>\n",
       "      <td>1.543581e-15</td>\n",
       "      <td>-5.629738e-16</td>\n",
       "      <td>6.117026e-16</td>\n",
       "      <td>1.636859e-15</td>\n",
       "      <td>-2.981762e-16</td>\n",
       "      <td>2.826101e-16</td>\n",
       "    </tr>\n",
       "    <tr>\n",
       "      <th>std</th>\n",
       "      <td>1.000032e+00</td>\n",
       "      <td>1.000032e+00</td>\n",
       "      <td>1.000032e+00</td>\n",
       "      <td>1.000032e+00</td>\n",
       "      <td>1.000032e+00</td>\n",
       "      <td>1.000032e+00</td>\n",
       "      <td>1.000032e+00</td>\n",
       "      <td>1.000032e+00</td>\n",
       "      <td>1.000032e+00</td>\n",
       "      <td>1.000032e+00</td>\n",
       "      <td>...</td>\n",
       "      <td>1.000032e+00</td>\n",
       "      <td>1.000032e+00</td>\n",
       "      <td>1.000032e+00</td>\n",
       "      <td>1.000032e+00</td>\n",
       "      <td>1.000032e+00</td>\n",
       "      <td>1.000032e+00</td>\n",
       "      <td>1.000032e+00</td>\n",
       "      <td>1.000032e+00</td>\n",
       "      <td>1.000032e+00</td>\n",
       "      <td>1.000032e+00</td>\n",
       "    </tr>\n",
       "    <tr>\n",
       "      <th>min</th>\n",
       "      <td>-1.622562e+00</td>\n",
       "      <td>-1.389146e+00</td>\n",
       "      <td>-1.418572e+00</td>\n",
       "      <td>-1.914646e+00</td>\n",
       "      <td>-1.408689e+00</td>\n",
       "      <td>-1.640852e+00</td>\n",
       "      <td>-1.345408e+00</td>\n",
       "      <td>-1.911412e+00</td>\n",
       "      <td>-1.058504e+00</td>\n",
       "      <td>-7.030456e-01</td>\n",
       "      <td>...</td>\n",
       "      <td>-1.612959e-01</td>\n",
       "      <td>-5.918449e+00</td>\n",
       "      <td>-1.689632e-01</td>\n",
       "      <td>-1.327559e+01</td>\n",
       "      <td>-7.532620e-02</td>\n",
       "      <td>-7.936208e+00</td>\n",
       "      <td>-1.260048e-01</td>\n",
       "      <td>-6.368074e-01</td>\n",
       "      <td>-7.939558e-01</td>\n",
       "      <td>-6.936323e-01</td>\n",
       "    </tr>\n",
       "    <tr>\n",
       "      <th>25%</th>\n",
       "      <td>-7.426639e-01</td>\n",
       "      <td>-6.124734e-01</td>\n",
       "      <td>-9.320529e-01</td>\n",
       "      <td>-7.788733e-01</td>\n",
       "      <td>-9.688748e-01</td>\n",
       "      <td>-7.612025e-01</td>\n",
       "      <td>-5.511738e-01</td>\n",
       "      <td>-7.265606e-01</td>\n",
       "      <td>-1.058504e+00</td>\n",
       "      <td>-7.030456e-01</td>\n",
       "      <td>...</td>\n",
       "      <td>-1.612959e-01</td>\n",
       "      <td>1.689632e-01</td>\n",
       "      <td>-1.689632e-01</td>\n",
       "      <td>7.532620e-02</td>\n",
       "      <td>-7.532620e-02</td>\n",
       "      <td>1.260048e-01</td>\n",
       "      <td>-1.260048e-01</td>\n",
       "      <td>-6.368074e-01</td>\n",
       "      <td>-7.939558e-01</td>\n",
       "      <td>-6.936323e-01</td>\n",
       "    </tr>\n",
       "    <tr>\n",
       "      <th>50%</th>\n",
       "      <td>1.372345e-01</td>\n",
       "      <td>1.641993e-01</td>\n",
       "      <td>4.098496e-02</td>\n",
       "      <td>-2.109871e-01</td>\n",
       "      <td>3.505679e-01</td>\n",
       "      <td>1.184465e-01</td>\n",
       "      <td>2.430604e-01</td>\n",
       "      <td>-1.736297e-01</td>\n",
       "      <td>-2.188449e-01</td>\n",
       "      <td>-7.030456e-01</td>\n",
       "      <td>...</td>\n",
       "      <td>-1.612959e-01</td>\n",
       "      <td>1.689632e-01</td>\n",
       "      <td>-1.689632e-01</td>\n",
       "      <td>7.532620e-02</td>\n",
       "      <td>-7.532620e-02</td>\n",
       "      <td>1.260048e-01</td>\n",
       "      <td>-1.260048e-01</td>\n",
       "      <td>-6.368074e-01</td>\n",
       "      <td>-7.939558e-01</td>\n",
       "      <td>-6.936323e-01</td>\n",
       "    </tr>\n",
       "    <tr>\n",
       "      <th>75%</th>\n",
       "      <td>7.238334e-01</td>\n",
       "      <td>9.408720e-01</td>\n",
       "      <td>1.014023e+00</td>\n",
       "      <td>5.461946e-01</td>\n",
       "      <td>7.903821e-01</td>\n",
       "      <td>9.980955e-01</td>\n",
       "      <td>1.037295e+00</td>\n",
       "      <td>6.162715e-01</td>\n",
       "      <td>6.208139e-01</td>\n",
       "      <td>-1.588205e-01</td>\n",
       "      <td>...</td>\n",
       "      <td>-1.612959e-01</td>\n",
       "      <td>1.689632e-01</td>\n",
       "      <td>-1.689632e-01</td>\n",
       "      <td>7.532620e-02</td>\n",
       "      <td>-7.532620e-02</td>\n",
       "      <td>1.260048e-01</td>\n",
       "      <td>-1.260048e-01</td>\n",
       "      <td>1.570334e+00</td>\n",
       "      <td>1.259516e+00</td>\n",
       "      <td>1.441686e+00</td>\n",
       "    </tr>\n",
       "    <tr>\n",
       "      <th>max</th>\n",
       "      <td>1.603732e+00</td>\n",
       "      <td>1.717545e+00</td>\n",
       "      <td>1.500542e+00</td>\n",
       "      <td>1.492672e+00</td>\n",
       "      <td>1.230196e+00</td>\n",
       "      <td>1.584528e+00</td>\n",
       "      <td>1.831529e+00</td>\n",
       "      <td>3.143955e+00</td>\n",
       "      <td>5.658767e+00</td>\n",
       "      <td>2.018080e+00</td>\n",
       "      <td>...</td>\n",
       "      <td>6.199785e+00</td>\n",
       "      <td>1.689632e-01</td>\n",
       "      <td>5.918449e+00</td>\n",
       "      <td>7.532620e-02</td>\n",
       "      <td>1.327559e+01</td>\n",
       "      <td>1.260048e-01</td>\n",
       "      <td>7.936208e+00</td>\n",
       "      <td>1.570334e+00</td>\n",
       "      <td>1.259516e+00</td>\n",
       "      <td>1.441686e+00</td>\n",
       "    </tr>\n",
       "  </tbody>\n",
       "</table>\n",
       "<p>8 rows × 45 columns</p>\n",
       "</div>"
      ],
      "text/plain": [
       "                 0             1             2             3             4   \\\n",
       "count  1.542000e+04  1.542000e+04  1.542000e+04  1.542000e+04  1.542000e+04   \n",
       "mean  -3.082705e-16  1.502019e-15  7.038612e-17 -1.819268e-16  2.255942e-16   \n",
       "std    1.000032e+00  1.000032e+00  1.000032e+00  1.000032e+00  1.000032e+00   \n",
       "min   -1.622562e+00 -1.389146e+00 -1.418572e+00 -1.914646e+00 -1.408689e+00   \n",
       "25%   -7.426639e-01 -6.124734e-01 -9.320529e-01 -7.788733e-01 -9.688748e-01   \n",
       "50%    1.372345e-01  1.641993e-01  4.098496e-02 -2.109871e-01  3.505679e-01   \n",
       "75%    7.238334e-01  9.408720e-01  1.014023e+00  5.461946e-01  7.903821e-01   \n",
       "max    1.603732e+00  1.717545e+00  1.500542e+00  1.492672e+00  1.230196e+00   \n",
       "\n",
       "                 5             6             7             8             9   \\\n",
       "count  1.542000e+04  1.542000e+04  1.542000e+04  1.542000e+04  1.542000e+04   \n",
       "mean   9.403056e-16  1.592688e-16 -7.423087e-17 -1.048774e-15  5.296023e-15   \n",
       "std    1.000032e+00  1.000032e+00  1.000032e+00  1.000032e+00  1.000032e+00   \n",
       "min   -1.640852e+00 -1.345408e+00 -1.911412e+00 -1.058504e+00 -7.030456e-01   \n",
       "25%   -7.612025e-01 -5.511738e-01 -7.265606e-01 -1.058504e+00 -7.030456e-01   \n",
       "50%    1.184465e-01  2.430604e-01 -1.736297e-01 -2.188449e-01 -7.030456e-01   \n",
       "75%    9.980955e-01  1.037295e+00  6.162715e-01  6.208139e-01 -1.588205e-01   \n",
       "max    1.584528e+00  1.831529e+00  3.143955e+00  5.658767e+00  2.018080e+00   \n",
       "\n",
       "       ...            35            36            37            38  \\\n",
       "count  ...  1.542000e+04  1.542000e+04  1.542000e+04  1.542000e+04   \n",
       "mean   ... -6.532388e-16 -4.411545e-15  4.418727e-15 -1.661315e-15   \n",
       "std    ...  1.000032e+00  1.000032e+00  1.000032e+00  1.000032e+00   \n",
       "min    ... -1.612959e-01 -5.918449e+00 -1.689632e-01 -1.327559e+01   \n",
       "25%    ... -1.612959e-01  1.689632e-01 -1.689632e-01  7.532620e-02   \n",
       "50%    ... -1.612959e-01  1.689632e-01 -1.689632e-01  7.532620e-02   \n",
       "75%    ... -1.612959e-01  1.689632e-01 -1.689632e-01  7.532620e-02   \n",
       "max    ...  6.199785e+00  1.689632e-01  5.918449e+00  7.532620e-02   \n",
       "\n",
       "                 39            40            41            42            43  \\\n",
       "count  1.542000e+04  1.542000e+04  1.542000e+04  1.542000e+04  1.542000e+04   \n",
       "mean   1.543581e-15 -5.629738e-16  6.117026e-16  1.636859e-15 -2.981762e-16   \n",
       "std    1.000032e+00  1.000032e+00  1.000032e+00  1.000032e+00  1.000032e+00   \n",
       "min   -7.532620e-02 -7.936208e+00 -1.260048e-01 -6.368074e-01 -7.939558e-01   \n",
       "25%   -7.532620e-02  1.260048e-01 -1.260048e-01 -6.368074e-01 -7.939558e-01   \n",
       "50%   -7.532620e-02  1.260048e-01 -1.260048e-01 -6.368074e-01 -7.939558e-01   \n",
       "75%   -7.532620e-02  1.260048e-01 -1.260048e-01  1.570334e+00  1.259516e+00   \n",
       "max    1.327559e+01  1.260048e-01  7.936208e+00  1.570334e+00  1.259516e+00   \n",
       "\n",
       "                 44  \n",
       "count  1.542000e+04  \n",
       "mean   2.826101e-16  \n",
       "std    1.000032e+00  \n",
       "min   -6.936323e-01  \n",
       "25%   -6.936323e-01  \n",
       "50%   -6.936323e-01  \n",
       "75%    1.441686e+00  \n",
       "max    1.441686e+00  \n",
       "\n",
       "[8 rows x 45 columns]"
      ]
     },
     "execution_count": 49,
     "metadata": {},
     "output_type": "execute_result"
    }
   ],
   "source": [
    "X.describe()"
   ]
  },
  {
   "cell_type": "markdown",
   "id": "61b6f0cd",
   "metadata": {},
   "source": [
    "# Step 7: Splitting of data as train data and test data"
   ]
  },
  {
   "cell_type": "code",
   "execution_count": 50,
   "id": "3642fd1d",
   "metadata": {},
   "outputs": [],
   "source": [
    "from sklearn.model_selection import train_test_split\n",
    "X_train,X_test,y_train,y_test = train_test_split(X,y,test_size=0.3,random_state=42)"
   ]
  },
  {
   "cell_type": "code",
   "execution_count": 51,
   "id": "e44ee657",
   "metadata": {},
   "outputs": [
    {
     "data": {
      "text/plain": [
       "(10794, 45)"
      ]
     },
     "execution_count": 51,
     "metadata": {},
     "output_type": "execute_result"
    }
   ],
   "source": [
    "X_train.shape"
   ]
  },
  {
   "cell_type": "code",
   "execution_count": 52,
   "id": "548812a2",
   "metadata": {},
   "outputs": [
    {
     "data": {
      "text/plain": [
       "(4626, 45)"
      ]
     },
     "execution_count": 52,
     "metadata": {},
     "output_type": "execute_result"
    }
   ],
   "source": [
    "X_test.shape"
   ]
  },
  {
   "cell_type": "code",
   "execution_count": 53,
   "id": "55586a79",
   "metadata": {},
   "outputs": [
    {
     "data": {
      "text/plain": [
       "(10794, 1)"
      ]
     },
     "execution_count": 53,
     "metadata": {},
     "output_type": "execute_result"
    }
   ],
   "source": [
    "y_train.shape"
   ]
  },
  {
   "cell_type": "code",
   "execution_count": 54,
   "id": "ca031f1f",
   "metadata": {},
   "outputs": [
    {
     "data": {
      "text/plain": [
       "(4626, 1)"
      ]
     },
     "execution_count": 54,
     "metadata": {},
     "output_type": "execute_result"
    }
   ],
   "source": [
    "y_test.shape"
   ]
  },
  {
   "cell_type": "markdown",
   "id": "159cfea8",
   "metadata": {},
   "source": [
    "# Step 8: Bulding Model"
   ]
  },
  {
   "cell_type": "markdown",
   "id": "970a4e2a",
   "metadata": {},
   "source": [
    "# Logistic Regression"
   ]
  },
  {
   "cell_type": "code",
   "execution_count": 58,
   "id": "05b28b7e",
   "metadata": {},
   "outputs": [
    {
     "data": {
      "text/plain": [
       "LogisticRegression()"
      ]
     },
     "execution_count": 58,
     "metadata": {},
     "output_type": "execute_result"
    }
   ],
   "source": [
    "from sklearn.linear_model import LogisticRegression\n",
    "lr=LogisticRegression()\n",
    "lr.fit(X_train,y_train)"
   ]
  },
  {
   "cell_type": "code",
   "execution_count": 61,
   "id": "7929f653",
   "metadata": {},
   "outputs": [],
   "source": [
    "y_pred1=lr.predict(X_test)"
   ]
  },
  {
   "cell_type": "code",
   "execution_count": 60,
   "id": "4078756d",
   "metadata": {},
   "outputs": [],
   "source": [
    "from sklearn.metrics import accuracy_score,confusion_matrix"
   ]
  },
  {
   "cell_type": "code",
   "execution_count": 62,
   "id": "9f8ed667",
   "metadata": {},
   "outputs": [
    {
     "data": {
      "text/plain": [
       "0.9383916990920882"
      ]
     },
     "execution_count": 62,
     "metadata": {},
     "output_type": "execute_result"
    }
   ],
   "source": [
    "accuracy_score(y_test,y_pred1)"
   ]
  },
  {
   "cell_type": "code",
   "execution_count": 65,
   "id": "592df980",
   "metadata": {},
   "outputs": [
    {
     "data": {
      "text/plain": [
       "array([[4341,    0],\n",
       "       [ 285,    0]], dtype=int64)"
      ]
     },
     "execution_count": 65,
     "metadata": {},
     "output_type": "execute_result"
    }
   ],
   "source": [
    "confusion_matrix(y_test,y_pred1)"
   ]
  },
  {
   "cell_type": "markdown",
   "id": "a7d7a5b6",
   "metadata": {},
   "source": [
    "There are 285 misclassification values."
   ]
  },
  {
   "cell_type": "markdown",
   "id": "b1c19c81",
   "metadata": {},
   "source": [
    "# Decision Tree"
   ]
  },
  {
   "cell_type": "code",
   "execution_count": 56,
   "id": "609a5b79",
   "metadata": {},
   "outputs": [
    {
     "data": {
      "text/plain": [
       "DecisionTreeClassifier()"
      ]
     },
     "execution_count": 56,
     "metadata": {},
     "output_type": "execute_result"
    }
   ],
   "source": [
    "from sklearn.tree import DecisionTreeClassifier\n",
    "dt=DecisionTreeClassifier()\n",
    "dt.fit(X_train,y_train)"
   ]
  },
  {
   "cell_type": "code",
   "execution_count": 63,
   "id": "09774e53",
   "metadata": {},
   "outputs": [],
   "source": [
    "y_pred2=dt.predict(X_test)"
   ]
  },
  {
   "cell_type": "code",
   "execution_count": 64,
   "id": "b9efeba2",
   "metadata": {},
   "outputs": [
    {
     "data": {
      "text/plain": [
       "0.9051015996541288"
      ]
     },
     "execution_count": 64,
     "metadata": {},
     "output_type": "execute_result"
    }
   ],
   "source": [
    "accuracy_score(y_test,y_pred2)"
   ]
  },
  {
   "cell_type": "code",
   "execution_count": 66,
   "id": "7143c9ee",
   "metadata": {},
   "outputs": [
    {
     "data": {
      "text/plain": [
       "array([[4106,  235],\n",
       "       [ 204,   81]], dtype=int64)"
      ]
     },
     "execution_count": 66,
     "metadata": {},
     "output_type": "execute_result"
    }
   ],
   "source": [
    "confusion_matrix(y_test,y_pred2)"
   ]
  },
  {
   "cell_type": "markdown",
   "id": "68ce3c3c",
   "metadata": {},
   "source": [
    "There are 439 misclassifications."
   ]
  },
  {
   "cell_type": "markdown",
   "id": "2e8a5b7d",
   "metadata": {},
   "source": [
    "# Random Forest "
   ]
  },
  {
   "cell_type": "code",
   "execution_count": 68,
   "id": "faa0f224",
   "metadata": {},
   "outputs": [
    {
     "data": {
      "text/plain": [
       "RandomForestClassifier()"
      ]
     },
     "execution_count": 68,
     "metadata": {},
     "output_type": "execute_result"
    }
   ],
   "source": [
    "from sklearn.ensemble import RandomForestClassifier\n",
    "rf=RandomForestClassifier()\n",
    "rf.fit(X_train,y_train)"
   ]
  },
  {
   "cell_type": "code",
   "execution_count": 69,
   "id": "55fea8a8",
   "metadata": {},
   "outputs": [],
   "source": [
    "y_pred3=rf.predict(X_test)"
   ]
  },
  {
   "cell_type": "code",
   "execution_count": 70,
   "id": "43ae1e37",
   "metadata": {},
   "outputs": [
    {
     "data": {
      "text/plain": [
       "0.9386078685689581"
      ]
     },
     "execution_count": 70,
     "metadata": {},
     "output_type": "execute_result"
    }
   ],
   "source": [
    "accuracy_score(y_test,y_pred3)"
   ]
  },
  {
   "cell_type": "code",
   "execution_count": 71,
   "id": "ae1e2ed4",
   "metadata": {},
   "outputs": [
    {
     "data": {
      "text/plain": [
       "array([[4341,    0],\n",
       "       [ 284,    1]], dtype=int64)"
      ]
     },
     "execution_count": 71,
     "metadata": {},
     "output_type": "execute_result"
    }
   ],
   "source": [
    "confusion_matrix(y_test,y_pred3)"
   ]
  },
  {
   "cell_type": "markdown",
   "id": "6da9b736",
   "metadata": {},
   "source": [
    "There are 284 misclassifications."
   ]
  },
  {
   "cell_type": "markdown",
   "id": "7bb8fc75",
   "metadata": {},
   "source": [
    "# Gradient Boosting"
   ]
  },
  {
   "cell_type": "code",
   "execution_count": 74,
   "id": "f2498a87",
   "metadata": {},
   "outputs": [
    {
     "data": {
      "text/plain": [
       "GradientBoostingClassifier()"
      ]
     },
     "execution_count": 74,
     "metadata": {},
     "output_type": "execute_result"
    }
   ],
   "source": [
    "from sklearn.ensemble import GradientBoostingClassifier\n",
    "gb=GradientBoostingClassifier()\n",
    "gb.fit(X_train,y_train)"
   ]
  },
  {
   "cell_type": "code",
   "execution_count": 75,
   "id": "e877cf63",
   "metadata": {},
   "outputs": [],
   "source": [
    "y_pred4=gb.predict(X_test)"
   ]
  },
  {
   "cell_type": "code",
   "execution_count": 76,
   "id": "ce9eee2d",
   "metadata": {},
   "outputs": [
    {
     "data": {
      "text/plain": [
       "0.940337224383917"
      ]
     },
     "execution_count": 76,
     "metadata": {},
     "output_type": "execute_result"
    }
   ],
   "source": [
    "accuracy_score(y_test,y_pred4)"
   ]
  },
  {
   "cell_type": "code",
   "execution_count": 77,
   "id": "97980932",
   "metadata": {},
   "outputs": [
    {
     "data": {
      "text/plain": [
       "array([[4338,    3],\n",
       "       [ 273,   12]], dtype=int64)"
      ]
     },
     "execution_count": 77,
     "metadata": {},
     "output_type": "execute_result"
    }
   ],
   "source": [
    "confusion_matrix(y_test,y_pred4)"
   ]
  },
  {
   "cell_type": "markdown",
   "id": "84ba2919",
   "metadata": {},
   "source": [
    "280 misclassifications"
   ]
  },
  {
   "cell_type": "markdown",
   "id": "65b2e1a6",
   "metadata": {},
   "source": [
    "RESULT: Comparing the accuracy score of 4 models Gradient boosting have highest accuracy and it have lesser misclasssifications compared to others. So it is the best model to predict the fraud vehicle insurance claim."
   ]
  },
  {
   "cell_type": "markdown",
   "id": "e868e260",
   "metadata": {},
   "source": [
    "# Step 9: Hyperparameter Tuning"
   ]
  },
  {
   "cell_type": "markdown",
   "id": "cec19777",
   "metadata": {},
   "source": [
    "# Tuning 1"
   ]
  },
  {
   "cell_type": "code",
   "execution_count": 98,
   "id": "7b936be3",
   "metadata": {},
   "outputs": [],
   "source": [
    "gbt=GradientBoostingClassifier(n_estimators = 1000, max_depth = 15 ,random_state = 25)"
   ]
  },
  {
   "cell_type": "code",
   "execution_count": 99,
   "id": "b9c3564f",
   "metadata": {},
   "outputs": [
    {
     "data": {
      "text/plain": [
       "GradientBoostingClassifier(max_depth=15, n_estimators=1000, random_state=25)"
      ]
     },
     "execution_count": 99,
     "metadata": {},
     "output_type": "execute_result"
    }
   ],
   "source": [
    "gbt.fit(X_train,y_train)"
   ]
  },
  {
   "cell_type": "code",
   "execution_count": 100,
   "id": "e1eecda2",
   "metadata": {},
   "outputs": [],
   "source": [
    "y_pred5=gbt.predict(X_test)"
   ]
  },
  {
   "cell_type": "code",
   "execution_count": 101,
   "id": "b473cb29",
   "metadata": {},
   "outputs": [
    {
     "data": {
      "text/plain": [
       "0.9416342412451362"
      ]
     },
     "execution_count": 101,
     "metadata": {},
     "output_type": "execute_result"
    }
   ],
   "source": [
    "accuracy_score(y_test,y_pred5)"
   ]
  },
  {
   "cell_type": "markdown",
   "id": "ead36417",
   "metadata": {},
   "source": [
    "# Tuning 2"
   ]
  },
  {
   "cell_type": "code",
   "execution_count": 102,
   "id": "7f7a332a",
   "metadata": {},
   "outputs": [],
   "source": [
    "gbtt=GradientBoostingClassifier(n_estimators = 500, max_depth = 10 ,random_state = 22)"
   ]
  },
  {
   "cell_type": "code",
   "execution_count": 103,
   "id": "438ea782",
   "metadata": {},
   "outputs": [
    {
     "data": {
      "text/plain": [
       "GradientBoostingClassifier(max_depth=10, n_estimators=500, random_state=22)"
      ]
     },
     "execution_count": 103,
     "metadata": {},
     "output_type": "execute_result"
    }
   ],
   "source": [
    "gbtt.fit(X_train,y_train)"
   ]
  },
  {
   "cell_type": "code",
   "execution_count": 104,
   "id": "fa0957a5",
   "metadata": {},
   "outputs": [],
   "source": [
    "y_pred6=gbtt.predict(X_test)"
   ]
  },
  {
   "cell_type": "code",
   "execution_count": 105,
   "id": "b6c9cd45",
   "metadata": {},
   "outputs": [
    {
     "data": {
      "text/plain": [
       "0.9420665801988759"
      ]
     },
     "execution_count": 105,
     "metadata": {},
     "output_type": "execute_result"
    }
   ],
   "source": [
    "accuracy_score(y_test,y_pred6)"
   ]
  },
  {
   "cell_type": "markdown",
   "id": "3a2ff2df",
   "metadata": {},
   "source": [
    "We can see that the accuracy increased after tuning."
   ]
  },
  {
   "cell_type": "markdown",
   "id": "23ba5d93",
   "metadata": {},
   "source": [
    "CONCLUSION: Our aim was to find a model to predict the fraud vehicle insurance claim. We had a data of some insurance claimers. We followed certain steps to predict the fraud vehicle claim. First We processed the data in three steps by filling missing values, encoding and standardising. We also plotted many graphs and found some results from that. Finally we fitted the model for prediction. After fitting and hyperparameter tuning we found out that Gradient Boosting is the best model for predicting fraud vehicle insurance claim."
   ]
  },
  {
   "cell_type": "markdown",
   "id": "ca6e8bee",
   "metadata": {},
   "source": [
    "# Submitted by Team 9\n",
    "\n"
   ]
  },
  {
   "cell_type": "markdown",
   "id": "7d261f50",
   "metadata": {},
   "source": [
    "1. SRUTHY B S\n",
    "\n",
    "2. GOKUL M S\n",
    "\n",
    "3. ROSHAN K RAJU\n",
    "\n",
    "4. NEERAJA RAVI"
   ]
  },
  {
   "cell_type": "code",
   "execution_count": null,
   "id": "0a37e1d4",
   "metadata": {},
   "outputs": [],
   "source": []
  }
 ],
 "metadata": {
  "kernelspec": {
   "display_name": "Python 3",
   "language": "python",
   "name": "python3"
  },
  "language_info": {
   "codemirror_mode": {
    "name": "ipython",
    "version": 3
   },
   "file_extension": ".py",
   "mimetype": "text/x-python",
   "name": "python",
   "nbconvert_exporter": "python",
   "pygments_lexer": "ipython3",
   "version": "3.8.8"
  }
 },
 "nbformat": 4,
 "nbformat_minor": 5
}
